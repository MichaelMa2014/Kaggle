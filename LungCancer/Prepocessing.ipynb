{
 "cells": [
  {
   "cell_type": "code",
   "execution_count": 1,
   "metadata": {
    "collapsed": true
   },
   "outputs": [],
   "source": [
    "# %matplotlib inline"
   ]
  },
  {
   "cell_type": "code",
   "execution_count": 1,
   "metadata": {
    "collapsed": false
   },
   "outputs": [],
   "source": [
    "import numpy as np # linear algebra\n",
    "import pandas as pd # data processing, CSV file I/O (e.g. pd.read_csv)\n",
    "import dicom\n",
    "import os\n",
    "import scipy.ndimage\n",
    "import matplotlib.pyplot as plt\n"
   ]
  },
  {
   "cell_type": "code",
   "execution_count": 2,
   "metadata": {
    "collapsed": true
   },
   "outputs": [],
   "source": [
    "from skimage import measure, morphology\n",
    "from mpl_toolkits.mplot3d.art3d import Poly3DCollection"
   ]
  },
  {
   "cell_type": "code",
   "execution_count": 5,
   "metadata": {
    "collapsed": false
   },
   "outputs": [],
   "source": [
    "# Some constants \n",
    "INPUT_FOLDER = './sample_images/'\n",
    "patients = os.listdir(INPUT_FOLDER)\n",
    "patients.sort()"
   ]
  },
  {
   "cell_type": "code",
   "execution_count": 6,
   "metadata": {
    "collapsed": false
   },
   "outputs": [
    {
     "data": {
      "text/plain": [
       "['00cba091fa4ad62cc3200a657aeb957e',\n",
       " '0a099f2549429d29b32f349e95fb2244',\n",
       " '0a0c32c9e08cc2ea76a71649de56be6d',\n",
       " '0a38e7597ca26f9374f8ea2770ba870d',\n",
       " '0acbebb8d463b4b9ca88cf38431aac69',\n",
       " '0b20184e0cd497028bdd155d9fb42dc9',\n",
       " '0bd0e3056cbf23a1cb7f0f0b18446068',\n",
       " '0c0de3749d4fe175b7a5098b060982a1',\n",
       " '0c37613214faddf8701ca41e6d43f56e',\n",
       " '0c59313f52304e25d5a7dcf9877633b1',\n",
       " '0c60f4b87afcb3e2dfa65abbbf3ef2f9',\n",
       " '0c98fcb55e3f36d0c2b6507f62f4c5f1',\n",
       " '0c9d8314f9c69840e25febabb1229fa4',\n",
       " '0ca943d821204ceb089510f836a367fd',\n",
       " '0d06d764d3c07572074d468b4cff954f',\n",
       " '0d19f1c627df49eb223771c28548350e',\n",
       " '0d2fcf787026fece4e57be167d079383',\n",
       " '0d941a3ad6c889ac451caf89c46cb92a',\n",
       " '0ddeb08e9c97227853422bd71a2a695e',\n",
       " '0de72529c30fe642bc60dcb75c87f6bd']"
      ]
     },
     "execution_count": 6,
     "metadata": {},
     "output_type": "execute_result"
    }
   ],
   "source": [
    "patients"
   ]
  },
  {
   "cell_type": "code",
   "execution_count": 9,
   "metadata": {
    "collapsed": true
   },
   "outputs": [],
   "source": [
    "# Load the scans in given folder path\n",
    "def load_scan(path):\n",
    "    slices = [dicom.read_file(path + '/' + s) for s in os.listdir(path)]\n",
    "    slices.sort(key = lambda x: int(x.InstanceNumber))\n",
    "\n",
    "        \n",
    "    return slices"
   ]
  },
  {
   "cell_type": "code",
   "execution_count": 11,
   "metadata": {
    "collapsed": false,
    "scrolled": false
   },
   "outputs": [],
   "source": [
    "slices = load_scan('./sample_images/' + patients[0])"
   ]
  },
  {
   "cell_type": "code",
   "execution_count": 22,
   "metadata": {
    "collapsed": false,
    "scrolled": true
   },
   "outputs": [
    {
     "name": "stdout",
     "output_type": "stream",
     "text": [
      "19000101\n",
      "19000101\n",
      "19000101\n",
      "19000101\n",
      "19000101\n",
      "19000101\n",
      "19000101\n",
      "19000101\n",
      "19000101\n",
      "19000101\n",
      "19000101\n",
      "19000101\n",
      "19000101\n",
      "19000101\n",
      "19000101\n",
      "19000101\n",
      "19000101\n",
      "19000101\n",
      "19000101\n",
      "19000101\n",
      "19000101\n",
      "19000101\n",
      "19000101\n",
      "19000101\n",
      "19000101\n",
      "19000101\n",
      "19000101\n",
      "19000101\n",
      "19000101\n",
      "19000101\n",
      "19000101\n",
      "19000101\n",
      "19000101\n",
      "19000101\n",
      "19000101\n",
      "19000101\n",
      "19000101\n",
      "19000101\n",
      "19000101\n",
      "19000101\n",
      "19000101\n",
      "19000101\n",
      "19000101\n",
      "19000101\n",
      "19000101\n",
      "19000101\n",
      "19000101\n",
      "19000101\n",
      "19000101\n",
      "19000101\n",
      "19000101\n",
      "19000101\n",
      "19000101\n",
      "19000101\n",
      "19000101\n",
      "19000101\n",
      "19000101\n",
      "19000101\n",
      "19000101\n",
      "19000101\n",
      "19000101\n",
      "19000101\n",
      "19000101\n",
      "19000101\n",
      "19000101\n",
      "19000101\n",
      "19000101\n",
      "19000101\n",
      "19000101\n",
      "19000101\n",
      "19000101\n",
      "19000101\n",
      "19000101\n",
      "19000101\n",
      "19000101\n",
      "19000101\n",
      "19000101\n",
      "19000101\n",
      "19000101\n",
      "19000101\n",
      "19000101\n",
      "19000101\n",
      "19000101\n",
      "19000101\n",
      "19000101\n",
      "19000101\n",
      "19000101\n",
      "19000101\n",
      "19000101\n",
      "19000101\n",
      "19000101\n",
      "19000101\n",
      "19000101\n",
      "19000101\n",
      "19000101\n",
      "19000101\n",
      "19000101\n",
      "19000101\n",
      "19000101\n",
      "19000101\n",
      "19000101\n",
      "19000101\n",
      "19000101\n",
      "19000101\n",
      "19000101\n",
      "19000101\n",
      "19000101\n",
      "19000101\n",
      "19000101\n",
      "19000101\n",
      "19000101\n",
      "19000101\n",
      "19000101\n",
      "19000101\n",
      "19000101\n",
      "19000101\n",
      "19000101\n",
      "19000101\n",
      "19000101\n",
      "19000101\n",
      "19000101\n",
      "19000101\n",
      "19000101\n",
      "19000101\n",
      "19000101\n",
      "19000101\n",
      "19000101\n",
      "19000101\n",
      "19000101\n",
      "19000101\n",
      "19000101\n",
      "19000101\n",
      "19000101\n",
      "19000101\n"
     ]
    }
   ],
   "source": [
    "for s in slices:\n",
    "    print(s.PatientsBirthDate)"
   ]
  },
  {
   "cell_type": "code",
   "execution_count": 23,
   "metadata": {
    "collapsed": false
   },
   "outputs": [
    {
     "data": {
      "text/plain": [
       "['AcquisitionNumber',\n",
       " 'BitsAllocated',\n",
       " 'BitsStored',\n",
       " 'Columns',\n",
       " 'FrameOfReferenceUID',\n",
       " 'HighBit',\n",
       " 'ImageOrientationPatient',\n",
       " 'ImagePositionPatient',\n",
       " 'InstanceNumber',\n",
       " 'KVP',\n",
       " 'Modality',\n",
       " 'PatientBirthDate',\n",
       " 'PatientID',\n",
       " 'PatientName',\n",
       " 'PatientOrientation',\n",
       " 'PhotometricInterpretation',\n",
       " 'PixelData',\n",
       " 'PixelPaddingValue',\n",
       " 'PixelRepresentation',\n",
       " 'PixelSpacing',\n",
       " 'PositionReferenceIndicator',\n",
       " 'RescaleIntercept',\n",
       " 'RescaleSlope',\n",
       " 'Rows',\n",
       " 'SOPClassUID',\n",
       " 'SOPInstanceUID',\n",
       " 'SamplesPerPixel',\n",
       " 'SeriesDescription',\n",
       " 'SeriesInstanceUID',\n",
       " 'SeriesNumber',\n",
       " 'SliceLocation',\n",
       " 'SpecificCharacterSet',\n",
       " 'StudyInstanceUID',\n",
       " 'WindowCenter',\n",
       " 'WindowWidth',\n",
       " '__cmp__',\n",
       " '__contains__',\n",
       " '__delattr__',\n",
       " '__delitem__',\n",
       " '__dir__',\n",
       " '__eq__',\n",
       " '__format__',\n",
       " '__ge__',\n",
       " '__getattr__',\n",
       " '__getattribute__',\n",
       " '__getitem__',\n",
       " '__gt__',\n",
       " '__init__',\n",
       " '__iter__',\n",
       " '__le__',\n",
       " '__len__',\n",
       " '__lt__',\n",
       " '__ne__',\n",
       " '__new__',\n",
       " '__reduce__',\n",
       " '__reduce_ex__',\n",
       " '__repr__',\n",
       " '__setattr__',\n",
       " '__setitem__',\n",
       " '__sizeof__',\n",
       " '__str__',\n",
       " '__subclasshook__',\n",
       " '__weakref__',\n",
       " '_character_set',\n",
       " '_get_pixel_array',\n",
       " '_pixel_data_numpy',\n",
       " '_pretty_str',\n",
       " 'add',\n",
       " 'add_new',\n",
       " 'clear',\n",
       " 'copy',\n",
       " 'data_element',\n",
       " 'decode',\n",
       " 'dir',\n",
       " 'formatted_lines',\n",
       " 'fromkeys',\n",
       " 'get',\n",
       " 'get_item',\n",
       " 'group_dataset',\n",
       " 'has_key',\n",
       " 'items',\n",
       " 'iterall',\n",
       " 'iteritems',\n",
       " 'iterkeys',\n",
       " 'itervalues',\n",
       " 'keys',\n",
       " 'pixel_array',\n",
       " 'pop',\n",
       " 'popitem',\n",
       " 'remove_private_tags',\n",
       " 'save_as',\n",
       " 'setdefault',\n",
       " 'top',\n",
       " 'trait_names',\n",
       " 'update',\n",
       " 'values',\n",
       " 'viewitems',\n",
       " 'viewkeys',\n",
       " 'viewvalues',\n",
       " 'walk']"
      ]
     },
     "execution_count": 23,
     "metadata": {},
     "output_type": "execute_result"
    }
   ],
   "source": [
    "dir(slices[0])"
   ]
  },
  {
   "cell_type": "code",
   "execution_count": null,
   "metadata": {
    "collapsed": true
   },
   "outputs": [],
   "source": []
  }
 ],
 "metadata": {
  "anaconda-cloud": {},
  "kernelspec": {
   "display_name": "Python [default]",
   "language": "python",
   "name": "python2"
  },
  "language_info": {
   "codemirror_mode": {
    "name": "ipython",
    "version": 2
   },
   "file_extension": ".py",
   "mimetype": "text/x-python",
   "name": "python",
   "nbconvert_exporter": "python",
   "pygments_lexer": "ipython2",
   "version": "2.7.12"
  }
 },
 "nbformat": 4,
 "nbformat_minor": 1
}
