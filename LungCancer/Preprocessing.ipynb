{
 "cells": [
  {
   "cell_type": "code",
   "execution_count": 1,
   "metadata": {
    "collapsed": false
   },
   "outputs": [],
   "source": [
    "%matplotlib inline"
   ]
  },
  {
   "cell_type": "code",
   "execution_count": 2,
   "metadata": {
    "collapsed": false
   },
   "outputs": [],
   "source": [
    "import numpy as np # linear algebra\n",
    "import pandas as pd # data processing, CSV file I/O (e.g. pd.read_csv)\n",
    "import dicom\n",
    "import os\n",
    "import scipy.ndimage\n",
    "import matplotlib.pyplot as plt"
   ]
  },
  {
   "cell_type": "code",
   "execution_count": 3,
   "metadata": {
    "collapsed": true
   },
   "outputs": [],
   "source": [
    "from skimage import measure, morphology\n",
    "from mpl_toolkits.mplot3d.art3d import Poly3DCollection"
   ]
  },
  {
   "cell_type": "code",
   "execution_count": 4,
   "metadata": {
    "collapsed": false
   },
   "outputs": [],
   "source": [
    "# Some constants \n",
    "INPUT_FOLDER = './Data/stage1/'\n",
    "patients = os.listdir(INPUT_FOLDER)\n",
    "patients.sort()"
   ]
  },
  {
   "cell_type": "code",
   "execution_count": 5,
   "metadata": {
    "collapsed": false
   },
   "outputs": [
    {
     "data": {
      "text/plain": [
       "['0015ceb851d7251b8f399e39779d1e7d',\n",
       " '0030a160d58723ff36d73f41b170ec21',\n",
       " '003f41c78e6acfa92430a057ac0b306e',\n",
       " '006b96310a37b36cccb2ab48d10b49a3',\n",
       " '008464bb8521d09a42985dd8add3d0d2',\n",
       " '0092c13f9e00a3717fdc940641f00015',\n",
       " '00986bebc45e12038ef0ce3e9962b51a',\n",
       " '00cba091fa4ad62cc3200a657aeb957e',\n",
       " '00edff4f51a893d80dae2d42a7f45ad1',\n",
       " '0121c2845f2b7df060945b072b2515d7',\n",
       " '013395589c01aa01f8df81d80fb0e2b8',\n",
       " '01de8323fa065a8963533c4a86f2f6c1',\n",
       " '01e349d34c06410e1da273add27be25c',\n",
       " '01f1140c8e951e2a921b61c9a7e782c2',\n",
       " '024efb7a1e67dc820eb61cbdaa090166',\n",
       " '0257df465d9e4150adef13303433ff1e',\n",
       " '026470d51482c93efc18b9803159c960',\n",
       " '0268f3a7a17412178cfb039e71799a80',\n",
       " '026be5d5e652b6a7488669d884ebe297',\n",
       " '02801e3bbcc6966cb115a962012c35df',\n",
       " '028996723faa7840bb57f57e28275e4c',\n",
       " '031b7ec4fe96a3b035a8196264a8c8c3',\n",
       " '0334c8242ce7ee1a6c1263096e4cc535',\n",
       " '03bd22ed5858039af223c04993e9eb22',\n",
       " '03fb0d0fdb187ee1160f09386b28c3f2',\n",
       " '03ff23e445787886f8b0cb192b3c154d',\n",
       " '043ed6cb6054cc13804a3dca342fa4d0',\n",
       " '0482c444ac838adc5aa00d1064c976c1',\n",
       " '04a3187ec2ed4198a25033071897bffc',\n",
       " '04a52f49cdbfb8b99789b9e93f1ad319',\n",
       " '04a8c47583142181728056310759dea1',\n",
       " '04cfc5efa4c8c2a8944c8b9fa6cb04d1',\n",
       " '04e5d435fa01b0958e3274be73312cac',\n",
       " '04fca9fbec0b803326488ade96897f6e',\n",
       " '05609fdb8fa0895ac8a9be373144dac7',\n",
       " '059d8c14b2256a2ba4e38ac511700203',\n",
       " '05a20caf6ab6df4643644c953f06a5eb',\n",
       " '064366faa1a83fdcb18b2538f1717290',\n",
       " '0679e5fd67b7441b8094494033f3881f',\n",
       " '06a90409e4fcea3e634748b967993531',\n",
       " '0700108170c91ea2219006e9484999ef',\n",
       " '0708c00f6117ed977bbe1b462b56848c',\n",
       " '07349deeea878c723317a1ce42cc7e58',\n",
       " '07abb7bec548d1c0ccef088ce934e517',\n",
       " '07b1defcfae5873ee1f03c90255eb170',\n",
       " '07bca4290a2530091ce1d5f200d9d526',\n",
       " '07fdb853ff90ce3c6d5c91f619ed714e',\n",
       " '080e6a00e69888fd620894f9fd0714b1',\n",
       " '081f4a90f24ac33c14b61b97969b7f81',\n",
       " '08528b8817429d12b7ce2bf444d264f9',\n",
       " '0852f5124d69d7f8cd35fa31e1364d29',\n",
       " '08643d7b9ce18405fb63f63dda258e76',\n",
       " '086f95a932c83faed289854083f48831',\n",
       " '0890a698c0a6ce5db48b1467011bf8d2',\n",
       " '089b8f10743e449a0f64f8f311dd8a46',\n",
       " '08acb3440eb23385724d006403feb585',\n",
       " '099cec971282b1531d297e5d0d423598',\n",
       " '09b1c678fc1009d84a038cd879be4198',\n",
       " '09d7c4a3e1076dcfcae2b0a563a28364',\n",
       " '09ee522a3b7dbea48aa6d39afe240129',\n",
       " '09fdf599084b816247ba38d95b3c9d80',\n",
       " '0a099f2549429d29b32f349e95fb2244',\n",
       " '0a0c32c9e08cc2ea76a71649de56be6d',\n",
       " '0a38e7597ca26f9374f8ea2770ba870d',\n",
       " '0acbebb8d463b4b9ca88cf38431aac69',\n",
       " '0b20184e0cd497028bdd155d9fb42dc9',\n",
       " '0bd0e3056cbf23a1cb7f0f0b18446068',\n",
       " '0c0de3749d4fe175b7a5098b060982a1',\n",
       " '0c37613214faddf8701ca41e6d43f56e',\n",
       " '0c59313f52304e25d5a7dcf9877633b1',\n",
       " '0c60f4b87afcb3e2dfa65abbbf3ef2f9',\n",
       " '0c98fcb55e3f36d0c2b6507f62f4c5f1',\n",
       " '0c9d8314f9c69840e25febabb1229fa4',\n",
       " '0ca943d821204ceb089510f836a367fd',\n",
       " '0d06d764d3c07572074d468b4cff954f',\n",
       " '0d19f1c627df49eb223771c28548350e',\n",
       " '0d2fcf787026fece4e57be167d079383',\n",
       " '0d941a3ad6c889ac451caf89c46cb92a',\n",
       " '0ddeb08e9c97227853422bd71a2a695e',\n",
       " '0de72529c30fe642bc60dcb75c87f6bd',\n",
       " '0e7ffa620c6db473b70c8454f215306b',\n",
       " '0eafe9b9182b80c6d67015a2062f5143',\n",
       " '0eb39d23d0f68ade9b5d8e6b3aee04d2',\n",
       " '0ee336c585bf7eb1011df476891c5102',\n",
       " '0f5ab1976a1b1ef1c2eb1d340b0ce9c4',\n",
       " '0fb1b54da1e66c60a57db9c52f945e25',\n",
       " '0fe244f21893c45fbb877f54d008518b',\n",
       " '0fe9dd36f4dece7f4ec017433c4d4a50',\n",
       " '0ff552aa083ecfabaf1cfd65b0a8e674',\n",
       " '101a2999d28ce05788e6add3a28d4726',\n",
       " '1030bb45e9f660c3466f013dcb270520',\n",
       " '1098cb63ea33f752a850929234576bcb',\n",
       " '10a9c32039971eb12f3aecf76ac20f8c',\n",
       " '10aa518193fa5b89b305a806d1dfb150',\n",
       " '10f03fe0b77d39c758d6fb12304edfdb',\n",
       " '10ff16e329c64a6a290a7a4139a5f4ae',\n",
       " '11616de262f844e6542d3c65d9238b6e',\n",
       " '1183f213c1c821df18aad63890920403',\n",
       " '118be21b7e0c3058b29a524686391c66',\n",
       " '11b09ff9de7382d83f79cc81f89f5894',\n",
       " '11f10c2a0bfd231deeec98d69e4d0767',\n",
       " '11fe5426ef497bc490b9f1465f1fb25e',\n",
       " '122c5c959fd98036c9972eec2062dc59',\n",
       " '124c4188604434bcdec8358c8ddf9a8b',\n",
       " '124e68a78f9c092a2f16f9214e91268f',\n",
       " '1278988821a696e534c6c93ecdd4ff0c',\n",
       " '12db1ea8336eafaf7f9e3eda2b4e4fef',\n",
       " '12e0e2036f61c8a52ee4471bf813c36a',\n",
       " '1344e604281e68ac71f25c02e7637992',\n",
       " '135f21a84ac903a1d8dfbb0dfe46d792',\n",
       " '13bb12b3b27d5a7b4b142503a1ae9e73',\n",
       " '14248ec22193bed1e087755df5a28509',\n",
       " '1427be78bcf4aba96c5054b697be9b5b',\n",
       " '149cc798827099f8bdb97cf702027305',\n",
       " '149ff4b37a684a73869d2d88e3fd4d0e',\n",
       " '14afefc82d992018c485949285d20c03',\n",
       " '14c534e0b7c3176d9106c6215d0aa8c6',\n",
       " '14f713c1ef037f6c531cffdff0e5fb2c',\n",
       " '154a79706bcecd0402b913d4bee9eed7',\n",
       " '155893351afed6c68893397d19555fd8',\n",
       " '159bc8821a2dc39a1e770cb3559e098d',\n",
       " '15aa585fb2d3018b295df8619f2d1cf7',\n",
       " '1615ace332b9d79be4e0e9fa32c71e9e',\n",
       " '1631637f08f27347e8f23d7a0e18c100',\n",
       " '16377fe7caf072d882f234dbbff9ef6c',\n",
       " '166a2a476b7b84c975fb65162acc0798',\n",
       " '169b5bde441e8aa3df2766e2e02cda08',\n",
       " '16a4184e565f589622a70e82957ab54e',\n",
       " '1748ad43b222be66f3e5ae4bd70c02ac',\n",
       " '174a9fc87f54d6def3730954fbafc99d',\n",
       " '174c5f7c33ca31443208ef873b9477e5',\n",
       " '1753250dab5fc81bab8280df13309733',\n",
       " '178663e1e238cdfa4d4eb9679e5d0aa4',\n",
       " '17f5ae9fa49c4e47624f344d29bd03eb',\n",
       " '17ffaa3e8b53cc48e97fc6b87114e6dd',\n",
       " '180737a8b34cf2c88b00dfad3e7556ae',\n",
       " '184c61740244f4ce8fb985af9bb3d8e8',\n",
       " '184fa4ae2b7ae010625d89f10186f1c5',\n",
       " '185bc9d9fa3a58fea90778215c69d35b',\n",
       " '186a0877503b047a77eb9b38083be9c1',\n",
       " '186d95f7c17fd666726c10251072d44b',\n",
       " '18f49fee33af677f0ce2ba655c5ec835',\n",
       " '191fa0e017185de2c802bbe94edad2ed',\n",
       " '19409b302d6c143d4f754146e91d4cfe',\n",
       " '195842462645f0f331147a4c6b129a37',\n",
       " '197e035d3aed52b5a2a0de3ee4d5fcea',\n",
       " '198d3ff4979a9a89f78ac4b4a0fe0638',\n",
       " '199ff05d08ade6e298d37cc542bc3565',\n",
       " '19bb6a9bc007ad75a4777e5298354cb4',\n",
       " '19ca60da880961c50f1b99b66f252e8f',\n",
       " '19d95b5828aeba8073fcbb12979f312b',\n",
       " '19f3b4dea7af5d6e13acb472d6af23d8',\n",
       " '1a41350d4bbd74b7e0e28239cefa84c2',\n",
       " '1a91ca95390756518700877893ac195b',\n",
       " '1a9e2aad4b87512636f4f9d82c36a3ef',\n",
       " '1acbe17dc8f9f59d2fd167b2aa6c650f',\n",
       " '1b17c83c3b0cb973e41f9121e562d030',\n",
       " '1b2355e6054759f2f0eb2542ed382b78',\n",
       " '1b7ca8dad5c36feb0a6abf8079173e22',\n",
       " '1bb17a55702a78142cd05cd1063c82c8',\n",
       " '1be4cf2de84adac4de0e090c9a15461c',\n",
       " '1c05dea5723caf192af34ceb5804468f',\n",
       " '1c24a09fa32147d9083ff93f171e1102',\n",
       " '1c42a5da837f4122d2c3b59ca9b5f0fb',\n",
       " '1c498f306808952739e7a3a3a2439d1e',\n",
       " '1c81d86923dad37b411f3a5936eb622d',\n",
       " '1cf8e778167d20bf769669b4be96592b',\n",
       " '1dab3271160e1380c5a70a1e3ba40cb7',\n",
       " '1ddb5d17d9db61c8ea0fd58d00df05ef',\n",
       " '1e0f8048728717064645cb758eb89279',\n",
       " '1e33cb12436a64853c1ae9e918633e05',\n",
       " '1e62be2c3b6430b78ce31a8f023531ac',\n",
       " '1ec082e8e2fa6eb6366b72a13e47b50f',\n",
       " '1edf5480bf676f8342a7d516bab58fa0',\n",
       " '1f49f0c1d7feedcae9024d251797407c',\n",
       " '1f6333bc3599f683403d6f0884aefe00',\n",
       " '1fb4887efd403cd9c0f6970fc8b679b5',\n",
       " '1fdbc07019192de4a114e090389c8330',\n",
       " '1ff6e2a80eb74396e09460c61ae69fb0',\n",
       " '2004b3f761c3f5dffb02204f1247b211',\n",
       " '202898fa97c5949fbdc07ae7ff1cd9f0',\n",
       " '204bdd4a15f023eea66190972b66fd0f',\n",
       " '20809d879e5a966cc537beb42735a67f',\n",
       " '20c73e37fc89e007ae5b242480830860',\n",
       " '2117642550461db380a019bbd10a95e5',\n",
       " '2143d78ca33eb69f667edd80ddbff6de',\n",
       " '21b73c938fd7d346ee77a60bd60aaeac',\n",
       " '21bdacdcdb87bf401f34d5d582247c77',\n",
       " '21c94e2776145f74697adf8810b05305',\n",
       " '21cfe28c4a891795399bb77d63e939d7',\n",
       " '21d449f3ae00ea302e5aa15d7df65465',\n",
       " '220223b46a23db0e2b0577170936845d',\n",
       " '2276fd918ac100cec3ed8036f6ad401c',\n",
       " '229b8b785f880f61d8dad636c3dc2687',\n",
       " '2346e52f9370d9dd58172eb44b2b5d87',\n",
       " '234ac5dd589d09a4b2a753ff206d5588',\n",
       " '2365e0afe6844e955f3d4c23a16dc1a9',\n",
       " '23e309ef3a674bcd9c8df40614b93a8e',\n",
       " '24031ba88c58797148475f6d4d5a085b',\n",
       " '243038f7bb7787497c59bc17f04c6ed9',\n",
       " '243e69389ae5738d3f89386b0efddbcd',\n",
       " '245fe0c86269602b0dab44c345b0b412',\n",
       " '24626abe1c4544fb39d4e96e33275789',\n",
       " '2488c5b32e837dc848fe6fe4b1bbb7cb',\n",
       " '24deb9f7adc838e4a4aaa2c905c548e6',\n",
       " '2505ca2e3cd132f69fde96ba4bb50f7b',\n",
       " '25196c504274d166e81c745d32f30c72',\n",
       " '252b5fd5c4a5eb77be4fbe41df49bd07',\n",
       " '25782c40c29f7d774f8b644f3e68b590',\n",
       " '25a3b616f6cc89e74f6502d65b687972',\n",
       " '25c1c4f008e8addc4d386cab58815052',\n",
       " '25c369973827571098bdebf2a15c6ef2',\n",
       " '26142353f46d20c9fdded93f01e2bff4',\n",
       " '2615d445b6d3865407d1a4422d25058e',\n",
       " '2619ed1e4eca954af4dcbc4436ef8467',\n",
       " '263a1c3bfa43556623e75ed901e3fd8f',\n",
       " '263fa87394ee296e31234364e75d05e2',\n",
       " '264e5829ef58570c243bfd961098343f',\n",
       " '26a2b8d6b94ee16ecf88fb28c57f377e',\n",
       " '2703df8c469906a06a45c0d7ff501199',\n",
       " '274297dd9a4f66148754944ae2b6731c',\n",
       " '274a81c75d244187247789bd71de2b3a',\n",
       " '27e9f8b51aeee67918221f2df98e9cbc',\n",
       " '28054f63c5a6ef24e06d8c34258babd6',\n",
       " '281bb28a077ccfcd40ce4a543a5aea89',\n",
       " '28352e12fe29361dfd9613ed2e729192',\n",
       " '28621a6988deb389673605447f46d3bb',\n",
       " '28649e08938386e3b8eaa4a84baf5982',\n",
       " '28824d52b6425841bb263393c3211693',\n",
       " '2885e3af725bc58dc1522d4bfb24bb2b',\n",
       " '2895ce2fe73dd62554326c3ab1c3b686',\n",
       " '28a9b77a9113ce491433d3ea47fa8fc9',\n",
       " '28e29fe26140703e5bbe570f982bd112',\n",
       " '2922aac33a190fd3939de337fe3f0a34',\n",
       " '2950df9632577cb4b3af2dbfe2086b11',\n",
       " '2969c7ad0e550fee1f4a68fcb3bbb9e5',\n",
       " '29883252ce0ce3e052ce8cf4932623af',\n",
       " '29a2105c99e7677c30c7fd0b2edb9fcd',\n",
       " '29d92a1e253cef2c7f34c6db26ce11e3',\n",
       " '2a20e4a4e6411f72374fdffebabfc235',\n",
       " '2a2300103f80aadbfac57516d9a95365',\n",
       " '2a3e6ecf9499607ef4fd14b436136b0c',\n",
       " '2a48f50391e22040f28e258a74dcaf95',\n",
       " '2a549c66f24af964de6f25165c55e331',\n",
       " '2a6433cf347f7bd52ab796f083003832',\n",
       " '2a65c8b6d5cc50866de8caa4caabbb6d',\n",
       " '2b0ea2696c8a02af5ac22f142be28e17',\n",
       " '2b2a95f76d7b6712690ee7be6838f868',\n",
       " '2b55d9c3f8e05951c87e90d2361aca6a',\n",
       " '2b861ff187c8ff2977d988f3d8b08d87',\n",
       " '2b89691a0744504491ef91d711d94918',\n",
       " '2bb5f7e8f10e1e39b7f81b5aa98676ea',\n",
       " '2bf773632e786951d6d594939e6f4713',\n",
       " '2c06f5c66f3c79515b7712605dea4400',\n",
       " '2c51b9e7af4850d817f4aa0ddf90b852',\n",
       " '2c8e0b1e8a3f10b1d59e4aa8fe68a32e',\n",
       " '2ce2565b9839d8812cf0f9ad80371d3f',\n",
       " '2d596b6ead89ab35577fe625a9a17cbb',\n",
       " '2d5cd7c1ee9a74a1244ddd6b55ad0446',\n",
       " '2d8152c603e6c49593578bde8e388860',\n",
       " '2d81a9e760a07b25903a8c4aeb444eca',\n",
       " '2d977650e6388d2c45825a77e94437a2',\n",
       " '2dabff545dbfcb9e0efd92220c6aebcc',\n",
       " '2dbb8c6c6ea4ff5c62b34bdf9ea03158',\n",
       " '2e26f46f1edc232be164c1fe2712e96a',\n",
       " '2e59e2064d391f4b2587a08aff671399',\n",
       " '2e8bb42ed99b2bd1d9cd3ffaf5129e4c',\n",
       " '2ea91bfe303ec03f9b0b3603333a3de6',\n",
       " '2eb8aedb5274414e05041b7be65db3e3',\n",
       " '2eb92d17ca91b393765e8acf069763a6',\n",
       " '2ebb1e8f14802c33f0e4215a7545d70d',\n",
       " '2ed2ec628e6ad9d0aa8c2a9b7bf4c4ce',\n",
       " '2ed8eb4430bf40f5405495a5ec22a76d',\n",
       " '2f154a687b94f7b59fec7048cbfb5354',\n",
       " '2f4645c27f9806daffe7e9d013b4b7eb',\n",
       " '2f4e4a808cfb348d6ddc81de96f72077',\n",
       " '2f7088e4008c0ef2c88b6764af8c8815',\n",
       " '2f77fd993fbd858dec3c085b9ff1a3a2',\n",
       " '2fa939efbc3e1c2bc57ba5a98922ff3b',\n",
       " '2fc3d8ef26fc7aafad44d5034673dd4c',\n",
       " '2fced53a125854edb9284ff12795caf8',\n",
       " '2fd66be0a5e07b8bd4be1d8169cd846f',\n",
       " '302336ac736ed66077456775a0a99adc',\n",
       " '303b4b8425389134997a38b975c205d3',\n",
       " '3043b5cc9733054f3ab5399c3c810406',\n",
       " '30b8aa7f5688cab5ff0964f34b715c4d',\n",
       " '310b403db75226a9a44d9a29c18917b7',\n",
       " '31136e50b7205e9184227f94cdea0090',\n",
       " '313efe2e7ecf18a8d484f8b42f30da3e',\n",
       " '3170d41d2bc132db30399fca6bc6f376',\n",
       " '3187b6cf14ed2cbe611b01da5e161f21',\n",
       " '318bf8045b625b40825552420abfe1ef',\n",
       " '31c090cf66ec7bf090801d14d63199b5',\n",
       " '31d037f6e359b56aec064fd3e348adb5',\n",
       " '31e82ed2c875eae8dfbfd70ac440458a',\n",
       " '31f35f920a472a1c3eacb565fe027923',\n",
       " '321364cc2393dccb7ba8894ee9d2b269',\n",
       " '322bf0acacba9650fa5656b9613c75c8',\n",
       " '322d09835e9c6f621262ee68fd3ed596',\n",
       " '323792e42c4f43448b2b1a9651ecb779',\n",
       " '3244f802b7bd7c02ba7a8473802e947d',\n",
       " '3252220375d82c3720d36d757bb17345',\n",
       " '327c4e9f365aec05222e253d1a80a1d4',\n",
       " '328138837e6db638913332acb79c703e',\n",
       " '3285ba0f447f3091c0c7c061b47c2f62',\n",
       " '3295cec04482210dc6f78c2b4a1d287b',\n",
       " '3295f3f392d8e130155c8912b60161b5',\n",
       " '32cda856b7ec759fd3ebaa363c505e88',\n",
       " '331b14e413e88542855664c845c08c63',\n",
       " '33293edbc834da033aa061f7d6a45fa1',\n",
       " '33387bea2cacf6127035cc7033036a02',\n",
       " '335b129aacabdf9269b0bb12f148d15c',\n",
       " '337e7a428e7342d1e7f53a04247f7ad8',\n",
       " '338f9c6da34f61091a4c44b074b2f9e3',\n",
       " '33da5fb759223c316e8cec9d884d1584',\n",
       " '33dd6666d9f0338929ecce58bb7c4cc3',\n",
       " '33e0e8629a377e4554b26e60a1007788',\n",
       " '34007dd2549af2b82cc1206e550b5100',\n",
       " '34037914ceeec5605fc890159dd425c5',\n",
       " '344ab37041900393b5498bdda6f43cac',\n",
       " '3457880b1a66030feb8adaed6da805af',\n",
       " '3464083b3e6e7c11d1fba925f0b914cd',\n",
       " '348a53f500ada390ddd00cc47d310b2c',\n",
       " '34b00e3b98072207edd20732558f7ab5',\n",
       " '34c0760406297a3c8fd5077fb7cd95b0',\n",
       " '34cb3ac3d04e0d961e7578713bee6bb2',\n",
       " '35105d801880bd889bac5ee3771ed38b',\n",
       " '352c23fe8a3d0640ea531a6bf223732c',\n",
       " '3557455d81f42ee54ad0544f36933e9a',\n",
       " '356bc45910503ffde017a066581a3798',\n",
       " '359951e3d2768249211361665b99b735',\n",
       " '35ab1899e939be4e67923a1624c91365',\n",
       " '35b9a3e9871499893f76c8e6c648562c',\n",
       " '366cfab448dbe55fd63b01adac0b1c56',\n",
       " '36d0dff4c9eb340475888c2f93359e43',\n",
       " '36dcb6b7463ada9ed78ce902d6f8ddc2',\n",
       " '36f4fca6bbd993088ee024f93a61b722',\n",
       " '37006435aca7184571bba3c907141e82',\n",
       " '37030ab5889febdae6725740aa627f95',\n",
       " '375a52b012066845a2eeb5032a92fc6b',\n",
       " '379d84cd171e6c0e58455c2fd0cf57ef',\n",
       " '37dbe298bb4e0199625689cc35d390bb',\n",
       " '380eb569a5750648434cc8ae8da4a0a9',\n",
       " '383c27906392e9ce57f6ab5ef1cb6f62',\n",
       " '385f1f49b0c20563177c36b7470f1c46',\n",
       " '38bf066bba822584e14c0af65d4bb5e9',\n",
       " '38d89e67d2ea7e2ab023c10f5f19f716',\n",
       " '3938d2274f0576b70fffa9aa68af8874',\n",
       " '398208da1bcb6a88e11a7314065f13ff',\n",
       " '399a263bdfbf26c6969d8af98774be8c',\n",
       " '39c3a2d2ca67bc7a1a22240ea571d50c',\n",
       " '39c404ac6b5852fc8ff00d34bd35294f',\n",
       " '39dc5f09d7b8eeda7f2f02c86f53247d',\n",
       " '39ebb8121ea6faec0405a4e8db883b55',\n",
       " '3a1a293ecad44010da9907bfc91d94cd',\n",
       " '3a3a7a6b3d2a4ea6b1f5bc6ea715eab8',\n",
       " '3a5bbc2f1f5d6d76a48ba5300105d998',\n",
       " '3a78dcf53effd732bc3880c029154272',\n",
       " '3aedb9550977ed35e7d44555207ef739',\n",
       " '3b59edf7e74fcff927c912efc0e80f3a',\n",
       " '3b7384f374b73d2bd589ccbf1b651820',\n",
       " '3b78adbbe463aba48bf29613ca37b2ea',\n",
       " '3b908e86ea0f7cbd05dd8e0ea6d45d79',\n",
       " '3bbab45d770ecd681be143f67cb4e5f3',\n",
       " '3bd4f83c5930e8c1e193ccc463543745',\n",
       " '3c2dbbdeb857504a8b501fc013b99c90',\n",
       " '3c5a0fc6890a1f84211cf8a75c1b83c4',\n",
       " '3c73f5597780b7312b380373fb897f40',\n",
       " '3c86ed658e82e542bc542886a59ea4f1',\n",
       " '3cdd66bf14f0cff5cb46e95d5867de0d',\n",
       " '3d2b2b0fa9697b298fbbc033481cdcc4',\n",
       " '3d4e602819dca0f5eb48953841ff11d6',\n",
       " '3d521ee3776eefb65953f89c0e1a4f96',\n",
       " '3d5351d09a432a8de88e5b270d419ebf',\n",
       " '3dfe8e80106f4136d2933ff72a16035c',\n",
       " '3ee1fd6a0f3f108c3558e6699fb011f2',\n",
       " '3f057e68a02e9951b268227649f4a7d6',\n",
       " '3f28787cc3343445a8c5ecc4dae27a25',\n",
       " '3f37745d6516c29c597b797c50fe7839',\n",
       " '3f6431400c2a07a46386dba3929da45d',\n",
       " '3fcfd27d83883f454ba2fe58dee4abea',\n",
       " '4001d754871a8da824b8444e32dc6e0f',\n",
       " '402a18fa05523f80abb1e6d97793cc19',\n",
       " '404e5dd2b032a223282f5a5e73c05418',\n",
       " '4062f1ad138218af5a3dfa3186d2afe1',\n",
       " '408646e125230c495be91fe171da736e',\n",
       " '40c044145f5c87c12bd8c725924add3c',\n",
       " '40c95c9be0bd7c290534ce374c58bec9',\n",
       " '4131820511c86a5e6b1e7721ab687049',\n",
       " '415ea74bca59eb0ecd5ebb9c2c545f9d',\n",
       " '4165b6e956c0e46e94abf7d98f8d8fe2',\n",
       " '4209cb1fbce28cd68da900eb9bef26b3',\n",
       " '428e25dfddfe731fc73f4e1739422181',\n",
       " '42b2161e43b4dd0ea94604485976c59c',\n",
       " '42bfcfb0e3965039947bd905b2fc3915',\n",
       " '42dbd247a9e5f710926b7c049a00ff48',\n",
       " '42e374c728e50cf2aaa78db97f24a82c',\n",
       " '430596d1bfa6ec9a7bfa7359194a561c',\n",
       " '432f8765e6b590ec00cc34c8d88456da',\n",
       " '4348beb99dacd2cbf14983a2c64a00c6',\n",
       " '435cd5883a2014f295a8081ea098674b',\n",
       " '436fd6ccfc92afc44c7d3ccfe26b6129',\n",
       " '437e42695e7ad0a1cb834e1b3e780516',\n",
       " '43933b4021d93dd64854f318656c7d1e',\n",
       " '43f2ef8f53e1aa03bfb6378d0c20a8ac',\n",
       " '43fecc8947e4fbb47968dc8ef7d8f4ec',\n",
       " '43fefd3f810ef71e0073d2415e7a6713',\n",
       " '44012bec8f33a785f7844cea8910487d',\n",
       " '440fb90654b1436e7c3bbdac991b8c1d',\n",
       " '4419818b57ef8b0f8d6d95594adab922',\n",
       " '4434e19303b62ebaecef2596583ff351',\n",
       " '448ce51772879fcd88f61c07b06347b2',\n",
       " '44988c6efa451e8d496188cb30669d44',\n",
       " '44cd94d1228f4a70753b5dfc12703414',\n",
       " '4521c94debf37a4dc9f3b70366a21640',\n",
       " '456a7dd28233b398ac83f03c80447b5a',\n",
       " '4575fe61bf3f536ce6cfeb26fcc2893c',\n",
       " '45a8417be8f56b401bd7b5d106f5acdd',\n",
       " '45efbc7cc2657278f878bc973cecc141',\n",
       " '45f4141cfe3f110f9db4e1e113d15684',\n",
       " '46199ffd681fd429aca3823c76f1034d',\n",
       " '463b67fefdde16ba3c4a4258de1f38e3',\n",
       " '479078cdf18cd6b677b79d2d9b075d81',\n",
       " '483b89a4ffbbd85acc8b9af5a541dd4d',\n",
       " '4842c8c0a3f387effde44cb9b3d3fd2e',\n",
       " '48713d11ced3c60a531e6e80258d6425',\n",
       " '487cc9003c99fa95e9a9e201d396992c',\n",
       " '48ab0b98fc7789304c21430978624f32',\n",
       " '48e592418247393234dd658f9112c543',\n",
       " '48fac79fead32f2b10e37752cb077af6',\n",
       " '493641ef65ee95fe994d4789aec1db3b',\n",
       " '49433c1588cc078b825a0eff1dc2e816',\n",
       " '494b9a6714921a446b32959ca291b050',\n",
       " '494c42cb61c1e4a02504c16fe09a8129',\n",
       " '49a29b3f5bee32b350bedc4cfbad8e9c',\n",
       " '49b5b3444cf977439600dd06e8dd84ad',\n",
       " '49c88f7cc77341c9ae4e64243f9912fc',\n",
       " '49ee28b71e02be4689e3fb0ba2a32c2b',\n",
       " '4a1391269629d20359325873d11413c9',\n",
       " '4a782bbc2608288a3ed05e511af6f8bb',\n",
       " '4aa3131e76b28e30235664087407edc3',\n",
       " '4aea6c3360cd923d25f33ec5b5e643bc',\n",
       " '4af17bcb31669a9eab0b6ef8e22a8dcf',\n",
       " '4b19444c570185fc4606e4e29fd1ce1c',\n",
       " '4b28f147cb82baba3edcdbd34ca19085',\n",
       " '4b2f615f5498ee9d935b0229a2e6bb19',\n",
       " '4b351d0c19be183cc880f5af3fe5abee',\n",
       " '4b5970e5edc0d8389cabc6bc5d84265f',\n",
       " '4b6b53281fe1fe797e181a5287df0f9a',\n",
       " '4b7f72b889e85b479305f8fbc8cc4f48',\n",
       " '4b8e47f2a5edda13b971da27317bfc6f',\n",
       " '4b96e8e085d7ab16c8054654fe586553',\n",
       " '4baa552f3a11782f39e16b345d401fb8',\n",
       " '4bf6fb574a2ca2da551609e98a573e54',\n",
       " '4cc309d81bf3685d7def772862375a2a',\n",
       " '4cc8af2efef2f41bf70684be25276ce5',\n",
       " '4cd70a98baca46b116071b32788d3c2d',\n",
       " '4d207541fac845d1a369a160f15d55e6',\n",
       " '4d621b0adb6b46b353056e1843621c5f',\n",
       " '4d7df08f074b221eec6311c2617a5ba8',\n",
       " '4d86e1657d46b9ee44c2c434fad231ce',\n",
       " '4d8f4de444a1f453e7ad32d067b0f630',\n",
       " '4dade0813da186d968b4b8c4952cbb0c',\n",
       " '4dbda61d574417c7f25d6e9a8f0749a7',\n",
       " '4dcd34bd9b10f96453b63d4f55d1fd44',\n",
       " '4e9c2cbf385db44b6f5e6618f47318d9',\n",
       " '4ecf053654c565e4a5d0f37811eade66',\n",
       " '4efa432089851f50a5f53fc5a12e806a',\n",
       " '4f1573f5cab1aaaebff33287682c5fbd',\n",
       " '4f3039ae82f8cc764d1ec21116f54a07',\n",
       " '4fb3d996e87999e0dfa0009a3e5f0fbc',\n",
       " '4fcf8b00ea7a99162dc70aba253ba669',\n",
       " '502d4601458807bf0089e6fd07825357',\n",
       " '502e157e6a22166997d054e8920d921c',\n",
       " '504e447ad62ea9ebb283873e044b5dd2',\n",
       " '505405b3e70fb24b92e6a8a5b7ed339c',\n",
       " '506b07466777f6c6f4dd50a42896a2c4',\n",
       " '50cdacec399071cf70d8badd2511d0b3',\n",
       " '512397206b42f1f8d009113511ae2937',\n",
       " '519ad4ead3e61d2d71088ac8e46f25b6',\n",
       " '51bd5c556c77ecdaf489d8dd9f7a05f1',\n",
       " '51fbac477a3639f983904fc4d42b8c15',\n",
       " '521924ac2f00a62cc63f679de7e599cd',\n",
       " '5253d873ff82e3fa69e30e542d13a4ce',\n",
       " '5267ea7baf6332f29163064aecf6e443',\n",
       " '5275c7ec0f1d80c829611c378708c05b',\n",
       " '5278093ed7187e1a8be518d954509da7',\n",
       " '529e4dd38822b413a4a87e6f4faa5f23',\n",
       " '52f6d741e674f62fbcf73e6ec4f6a472',\n",
       " '53087ef723e2433ad0b8041e408c6f8c',\n",
       " '5368521797323c89292781b8780e45b5',\n",
       " '538543b57d0c8fa0b2b6bb7c84df3f33',\n",
       " '538600927ec2970552917a29b490b5fd',\n",
       " '53ddfb7769619035ad7f8f58c72f697c',\n",
       " '54056288ab97cebc4b0ea33c23f47ff6',\n",
       " '540dbb66efa0f76499464689756e69f4',\n",
       " '54162a514a5e2beb54e4b7aff41f5dfe',\n",
       " '5451203688c930484ba1f3c7f1378847',\n",
       " '54d421d543e9e6dc8db10066a5867081',\n",
       " '54df448f6c74df6bfa6b75c05393ace1',\n",
       " '5518b27f000e34cf2db5a362f4fac613',\n",
       " '552ef3f04be2073d2cf8a52431576c24',\n",
       " '5572cc61f851b0d10d6fec913ae722b9',\n",
       " '55b06d60e7c0329787f81d1b7cbf9aa0',\n",
       " '55baceb599dc8aefe4b13c131d0531df',\n",
       " '55c01868f1d9c37fa3f174dc3c0d44e8',\n",
       " '55d88980822c2e5d39b3d0ec172fa101',\n",
       " '55e476ee19742fc09c4ce5e6ebdc13d1',\n",
       " '55eace190c5917cdfb390ca652149fbc',\n",
       " '56462ba8833fc842d16be7e311214404',\n",
       " '565cdee745ea4e6afc0f7daae81a7963',\n",
       " '566a5d958f17d2fc44d4a1ec00401034',\n",
       " '567547810a1795b9c8e11c15dfd32c34',\n",
       " '56995718fdd0a0549d0e7f11eb307f34',\n",
       " '56d38d6863fd160da38b15bf12f0ed64',\n",
       " '56e0f421b7faddcae027d7feb6dae8cd',\n",
       " '570ea80b0dcc08f3e8751a6f4b2b1cd5',\n",
       " '573a661e2d784f9385a3b78c9757ddad',\n",
       " '573e900142c9e6e7b32ed9e5ffd5584c',\n",
       " '5765dc0dbc8c02a4c862563eac4950ef',\n",
       " '57822feb6186b788c4e1877123428454',\n",
       " '5782e6873c666529c6a66421acb043dc',\n",
       " '5791c42d317f34592be9a933c50e68ad',\n",
       " '579dfed23d49414a2c080bbf9d7f958f',\n",
       " '57af0020213d64598ede82fe9d6bb8b3',\n",
       " '57f5dc474b6a35d02542299dd09e68d6',\n",
       " '580cffecce8d3d53cde1abb922adf21a',\n",
       " '5818c3be99a83ca8c951ff3434750d6a',\n",
       " '5861f8f8e35c0713c61e8ab3bc54c905',\n",
       " '587d6230f2bad2525c47632fd792a895',\n",
       " '58bac12ccb44919bbd64271f38ee0584',\n",
       " '58bf189f6021ecea213c13eed7484d84',\n",
       " '58e4646cbead2fc4a6a1f86bf806e76f',\n",
       " '591f6b47c1362410e7f4c13afbc99d79',\n",
       " '592c2481f17d6a2cecfe7bbb6a27722c',\n",
       " '5968ac45330d7f24b041a73925818269',\n",
       " '597643aa6bb96b705eac52e03a307d6d',\n",
       " '59af702c21840ec18073b6b56c95e7fe',\n",
       " '59e4985cd165f3abbe888475ce564f3a',\n",
       " '59e4e8889ae68a75227b2bd02c1d1b96',\n",
       " '59fc9d939f05bf3023c1387c1c086520',\n",
       " '5a06cb92ba004e2265ab087b5b09e33a',\n",
       " '5a2e359e859d0b0d7c159fff87950852',\n",
       " '5a42f0a0d1e060531c20d04ed23efc02',\n",
       " '5a57009fcdea02d30d31a47d2454dc29',\n",
       " '5ab68460985d9ed8e952475b402ddd62',\n",
       " '5ade88428e6463fa212d4c287228e8ed',\n",
       " '5ae03fb6d9959aa93d1177cfd70cf760',\n",
       " '5ae60d42ec7eb7a79ce9a72967cbb6aa',\n",
       " '5ae9ab473d59cd29262c47a741177b6e',\n",
       " '5b412509bc40a3aeb3b5efef1fdfcfc9',\n",
       " '5b4f56936ab57ee5b30d8752652ee5cb',\n",
       " '5b642ed9150bac6cbd58a46ed8349afc',\n",
       " '5bb9185543527cd034aa48fc0b623874',\n",
       " '5bf71718aa1bdcada76f0683f8d6b41b',\n",
       " '5c0d992d01e6383d5684b8ac5d7143b1',\n",
       " '5c4c25f93529bf21469f81a0acd5d324',\n",
       " '5c69c62e94dde61c690563eb3553a561',\n",
       " '5c99ab7172afa78312fe73a3c0dd342f',\n",
       " '5ce91933688cc8400105bf640ac11535',\n",
       " '5d16819bd78c74448ce852a93bf423ad',\n",
       " '5d240c6a6d3009e61cb09ce49f641b4c',\n",
       " '5d801b07718dc9a1ad2bf701523a0f74',\n",
       " '5da3dd09c0d0d597287a9a1046cced37',\n",
       " '5e0c8cba8eab51076ac0014049d770c1',\n",
       " '5e21909f11ec07f75460fe16b6c0185a',\n",
       " '5e371e8fda27df3e5cc2548868229d5b',\n",
       " '5f19d1c7bd7ceb691639cab9c1c2cb19',\n",
       " '5f383eb9c3d8ea72ddec7e2e874d577d',\n",
       " '5f3b9b59f957fea0a5e8cc506e12652e',\n",
       " '5f4e23c0f76cd00aaaa6e03744bbc362',\n",
       " '5faa4b8d9e86c157b7b16e67f22e7210',\n",
       " '5fd33ea74e1ad740a201ae9b3c383fc5',\n",
       " '5fe048f36bd2da6bdb63d8ff3c4022cd',\n",
       " '60018d051926d01b38dd16e44159610c',\n",
       " '605d3633c1625b4be151d38aad43de94',\n",
       " '60638c0dcee9e5adfcac3b4f57d1366f',\n",
       " '608202eb3c368512e55e9e339a203790',\n",
       " '608a7028689c6ab3aea5f116007169b2',\n",
       " '60a4915d8662dff30dc596ebccb83b3c',\n",
       " '60b1526597b82c98ce96fbe5014c0f2b',\n",
       " '60b389fb2f7eeb912586d1a3ccc9dbbc',\n",
       " '61017c23bbae6e17062ff582d1a237b3',\n",
       " '61406252b7c29fbe372adfa953d95199',\n",
       " '61630ec628631f7fe3980f869e1a4fbe',\n",
       " '616f98dab4db03edbad28c73d22468d2',\n",
       " '6171d57221e26d1f15d3c71fe966ab18',\n",
       " '61917cf6407e793bc0edb60850009e85',\n",
       " '61c0247462b00b95c4df16edd4486a06',\n",
       " '61ce76681b4a68b8d0f3b724c1e844b3',\n",
       " '62099cb774faa70d28d2c5cb1e235270',\n",
       " '624a34fa8fd36847724e749877343847',\n",
       " '627499714e279203bd1294290f8fc542',\n",
       " '627836151c555187503dfe472fb15001',\n",
       " '63458b5875a0b223ec21555d17b52fd4',\n",
       " '6379e4435f78a5e5c150c32146ece4d4',\n",
       " '63b5be42543c98ac5392f1bfbda085bf',\n",
       " '63d907adcf3f12349a0c2c8921d38e89',\n",
       " '642c43727eee4bda71c0c30bf5cf1a2b',\n",
       " '645e7f46eb9b834153ecf8e2b2921fe5',\n",
       " '648c99653d512edc1d28dd8e7054ceab',\n",
       " '649fd56ef9809019b57261fcf9574d76',\n",
       " '64a5a866461a3b6006efb0075e04dffe',\n",
       " '65073aadb60e398d8db1806f5ea2a082',\n",
       " '6540e089936a6c9d1f11939e96e6ab18',\n",
       " '6541df84fd779ba6513a530c128f4e9b',\n",
       " '654f2095bace27af870cdfcc66f9717c',\n",
       " '657dc5d2bf8ea210d912dd8320481068',\n",
       " '65a380c07d416f78e85545eaaa2916a1',\n",
       " '65dd5d9d5b894e5f0ac3bd6c1384c46a',\n",
       " '65f596f75eebf7935554eaed3c8172ce',\n",
       " '661ffa992ed2c23c37f1e7b82dc834d7',\n",
       " '662153a685fb4268361bfbaca5e9ca23',\n",
       " '6629e23c3bdc8dc8161b3caa8a6048c1',\n",
       " '665c1913d8e90e57af3b745349d19537',\n",
       " '665ca5ce18dd06722a4c4436a85246b2',\n",
       " '666becc9794c25bb8e0e7982be7cb6dc',\n",
       " '666fad0dca00694381eeec67adc909ec',\n",
       " '6675d3cc20585f44d4c45746cb1002d4',\n",
       " '668bb968918c63fad7d65581825b1048',\n",
       " '66a92d789e440d3dbef3c69d20e20694',\n",
       " '66a94647459dd5a13f4336e1421119c5',\n",
       " '66b7666912e1d469cd9817a1cade694c',\n",
       " '66cef72d8428dbba31f2ab01abdaf6ca',\n",
       " '66fb40934f0be4b301fe27db7fb62299',\n",
       " '673ee14e01a0628b45c78500d402056e',\n",
       " '676467220abd8e2104417c5213664ef9',\n",
       " '678c5ec1360784e0fe797208069e0bbb',\n",
       " '6799964c08ad5ce7740defcd3bd037a6',\n",
       " '67ccc2ecd7716e1cab05caaedea99f4b',\n",
       " '67e87fa621f2e3e838b1b17a898d5b41',\n",
       " '67f7f74220c08faa756b34cb81b203a5',\n",
       " '6828335aec9aa0d0053ec0949319aa4b',\n",
       " '6857c76be618bb0ddced5f4fecc1695f',\n",
       " '68a1f729eb1e2a791fe8170ac6631828',\n",
       " '68e905099a1c18242aba55c9901eaaae',\n",
       " '68f2b9c1fae9180356cb5c4fa95bd30a',\n",
       " '68f4dff6dd1f135488e83b8a4ee6e20e',\n",
       " '6969c031ee0c34053faff3aac9dd2da7',\n",
       " '6993396b31078993e13cf9c0a6fd470b',\n",
       " '6997b392b28529c9ab67add45055fcf7',\n",
       " '699e4f02a11a33930a14b13071d24eb0',\n",
       " '6a08bc7a3156caf9b07bbb1f9b2861d2',\n",
       " '6a145c28d3b722643f547dfcbdf379ae',\n",
       " '6a7f1fd0196a97568f2991c885ac1c0b',\n",
       " '6ae190bcd3fd9c581db4120f4465d65a',\n",
       " '6ae1b284936accdc4101c6daaaa2e0d3',\n",
       " '6af9fecd6807921fa9fe10f0391aa453',\n",
       " '6b4837a316e688d0ba125cc1e545d383',\n",
       " '6be677ba1631174397b0c1e26a46af30',\n",
       " '6bebfec174e8a6e8d4b1653c13fcdbe5',\n",
       " '6c1136ce7fbc5c7b503aa08da6abedd2',\n",
       " '6c56e9802fb6346db58bd5daf160f9be',\n",
       " '6c71617e2cee498fd3dd20956bb90a3b',\n",
       " '6cb2908fd789700db727dd96526bc342',\n",
       " '6cf71f5017945c9dd8bc0f5126eeef5b',\n",
       " '6d01b46b619b9f6d8c78dbd3f6864372',\n",
       " '6d38cc9a6de069570a5d2efbb55a7f63',\n",
       " '6d3b16f2e60c3a1a4246f340dba73676',\n",
       " '6d3be6081d76d2365b080e599628d3bc',\n",
       " '6d43fdb6eb1bec3a5f4febfd442e8c93',\n",
       " '6d60c26d7d35ffd967127b380ff01c12',\n",
       " '6d75fe2462284150249a04d78781189e',\n",
       " '6ddb331865608b8dfb8cac6d873eaf62',\n",
       " '6e240f23afa2c1b4352cd0db5d4f357d',\n",
       " '6e3a7f8ef70e26252d25cc105a945f86',\n",
       " '6e5f12931ef179cc21382a59f5acab86',\n",
       " '6e6d5603fb8fcf523f86ac0856e50236',\n",
       " '6ee742b62985570a1f3a142eb7e49188',\n",
       " '6f229187fe608c9eacc567eb74c1458c',\n",
       " '6f38eb7988753c6a978d0da80dbc014b',\n",
       " '6f43af3f636f37b9695b58378f9265cc',\n",
       " '6faabf4152bf0ebfd91f686bc37a1f16',\n",
       " '6fd3af9174242c1b393fe4ba515e7a26',\n",
       " '6fd582d25eeb2250c2b0996c4216deb9',\n",
       " '700bdc2723c2ac75a8a8376d9ca170ad',\n",
       " '7027c0b8c8f8dcc76c6e4ba923d60a2e',\n",
       " '70287a7720e0d90249ac7b3978b7ca40',\n",
       " '7050f8141e92fa42fd9c471a8b2f50ce',\n",
       " '7051fc0fcf2344a2967d9a1a5478208e',\n",
       " '70671fa94231eb377e8ac7cba4650dfb',\n",
       " '70f4eb8201e3155cc3e399f0ff09c5ef',\n",
       " '713d8136c360ad0f37d6e53b61a7891b',\n",
       " '71665cc6a7ee85268ca1da69c94bbaeb',\n",
       " '7180c83eb184d5c9dfcbda228ab91213',\n",
       " '718f43ecf121c79899caba1e528bd43e',\n",
       " '7191c236cfcfc68cd21143e3a0faac51',\n",
       " '71e09cd11d743964f1abf442c34f2c9d',\n",
       " '721949894f5309ed4975a67419230a3c',\n",
       " '722429bc9cb25d6f4b7a820c14bf2ab1',\n",
       " '7239b3a904f39b25c4e303c10a24621a',\n",
       " '72609c2be68be9d7c9cde3d0127c05ac',\n",
       " '72a1e35c34052e163f61585ba0c9daf4',\n",
       " '72b080b50118e9ddb795890eb1f13684',\n",
       " '72ed4046708e5607eb0a5703905438ee',\n",
       " '72fd04cf3099b148d9ad361efb988866',\n",
       " '73280f6a624b3bf7a766c70b31dfc56b',\n",
       " '733205c5d0bbf19f5c761e0c023bf9a0',\n",
       " '7367ede966b44c6dce30b83345785671',\n",
       " '7395f64fba89c2463a1b13c400adf876',\n",
       " '73b28e2eadad587c9a8ac6c7186dd51b',\n",
       " '744bb5ab2a706c8070a3f5cd72848ccc',\n",
       " '7471f583e1fb0e34d9e582c313af4358',\n",
       " '74797049e8df8ed38947fd38840b539d',\n",
       " '748bc72733efdabb4c239afb612bf7d5',\n",
       " '74b1b748971c474a8023f6406c54b18a',\n",
       " '74b3ef4c2125d636980a19754702dbb9',\n",
       " '74b542d34b61740c1933d2c953403aa6',\n",
       " '74b68f9442209bace31aa62027fbb79a',\n",
       " '74dca439eb5b6dfa5e33c6d2119630ff',\n",
       " '750680cce371800ea26576b694b32dc8',\n",
       " '750c11a0a87833e0bb26441b52b51399',\n",
       " '750ed950a05e5fae10b4d25ed9bcd021',\n",
       " '75150225ab1f5d910bc64ad68ea4d221',\n",
       " '7525f0ec0999007a0bac946e346eba39',\n",
       " '7577cbd6961b0cab27f88727dcd2d6d3',\n",
       " '75aef267ad112a21c870b7e2893aaf8a',\n",
       " '761aeadb65fb84c8d04978a75b2f684c',\n",
       " '762d3d698144370d197a7b9bc978d6c9',\n",
       " '763288341ee363a264fe45a28ea28c21',\n",
       " '763ce10dfdd4662f15de3f5931d5534b',\n",
       " '7692b05abf70dbac5292e91918e98913',\n",
       " '76a77d945cd4c568f3b602957e1ec031',\n",
       " '76e54792d7f5543f734e0906ea8f36c5',\n",
       " '76f36ea4858c572b425eb915e1b27c8d',\n",
       " '76fff2029e577190ce0bf070192b889e',\n",
       " '77033e4c1591403d1b1255607a20a983',\n",
       " '775c5f8043e72b2284b5885254566271',\n",
       " '77941d758eae521a00ef225e306eda08',\n",
       " '7797bfd33eb9f06da2b2f5d5c6501af4',\n",
       " '77d6f5203d46073369d7038b2d58e320',\n",
       " '781cf9cc66e59f4586d9338630b95c1a',\n",
       " '7842c108866fccf9b1b56dca68fc355e',\n",
       " '78459ff46c9f3b3fa26be2a467515c7e',\n",
       " '7852cb521d7029ca08133476054e7bec',\n",
       " '7869cc6bfc3678fec1a81e93b34648cf',\n",
       " '787bd094dd0586ea0f51f9f8557424a8',\n",
       " '78c0a0104c0428e260cbd9e50eb7eea6',\n",
       " '7917af5df3fe5577f912c5168c6307e3',\n",
       " '7921bbb92d5390784f3ba046be0d59a3',\n",
       " '797d6bffdecfc88e990e820dc5771a0b',\n",
       " '799b283083f1b6547d558f063b318e78',\n",
       " '799c0026d66479f7447ed0df5955f051',\n",
       " '79e0e507b1cd1d0c8107de4fd6b9e444',\n",
       " '79e7773230a96a6789c2c64ec39312cb',\n",
       " '79eb6f0a80841d6618968362dfb1f57f',\n",
       " '7a705cc36536145911a2ef9ace7d9930',\n",
       " '7a82802a862a267d58aa2171645f1181',\n",
       " '7ae953bb9e0356d2990ee6655c8bd168',\n",
       " '7b24367c58f1737e901dde9a934d1eb1',\n",
       " '7b43882369098df840e51421e6059aea',\n",
       " '7b4d476d9414c9339269efe47840d2da',\n",
       " '7b547c5afa0c028b0e20e9a28eaeaa41',\n",
       " '7b6c63074678f65784bdc54d8d385b83',\n",
       " '7b72b604e0af8decb22021cdb92927ae',\n",
       " '7b76426f64cb4fbe3d4caa1dcbf47a2f',\n",
       " '7b84056d69644df2a9452a1746d14d39',\n",
       " '7b87e500ff88c264aceb67cf57b32d6d',\n",
       " '7bc437435c5677d361177adb80547bd0',\n",
       " '7bcecfdddd3bd47e3b36ffb05bbdab60',\n",
       " '7bd3565827be855caf938e72b3a7880a',\n",
       " '7bfba4540956c0b2c5b78b3623a4855d',\n",
       " '7c02c641324c598cd935b588189c87db',\n",
       " '7c2b72f9e0f5649c22902292febdc89f',\n",
       " '7c2fd0d32df5a2780b4b10fdf2f2cdbe',\n",
       " '7c8aa548b813dadf972c38e806320179',\n",
       " '7ce310b8431ace09a91ededcc03f7361',\n",
       " '7cf1a65bb0f89323668034244a59e725',\n",
       " '7d46ce019d79d13ee9ce8f18e010e71a',\n",
       " '7daeb8ef7307849c715f7f6f3e2dd88e',\n",
       " '7dbc5207b9ec1a1921cc2f03f9b37684',\n",
       " '7dc59759253943ac070ab2557c219731',\n",
       " '7df28e2253be3490208ba9a9f470ea1d',\n",
       " '7eb217c0444e5d866bd462ade5266a06',\n",
       " '7ec258e536a1e0353375295ad1b71e5b',\n",
       " '7f096cdfbc2fe03ec7f779278416a78c',\n",
       " '7f137d30638a87d151ac7e84eeaf48e8',\n",
       " '7f45518a2f938a92fa99658d98770316',\n",
       " '7f524231183ed193b8f2e3d9cc73c059',\n",
       " '7faa456389e1ffde464819d0b1360188',\n",
       " '7fb1c8ffd78ca4b6869044251add36b4',\n",
       " '7fd5be8ec9c236c314f801384bd89c0c',\n",
       " '7ffe144af38f85d177af286c5d941ef1',\n",
       " '80588b9231bb4fb7e1cddc9321d12e76',\n",
       " '80600d4a5fee7424d689ba7d0906d50f',\n",
       " '80938b4f531fa2334c13d829339e1356',\n",
       " '809ae218d8b4a973d11358264e4a0823',\n",
       " '80a3052f4a1b90fd38fd0def7b79b65c',\n",
       " '80bda1afde73204abd74d1ebd2758382',\n",
       " '80e01dfd642c5aea680852498ddabd28',\n",
       " '81528d5c9ea936264bf9aa8ab4f0ea5d',\n",
       " '817a99e1a60bcf4e37c904d73845ca50',\n",
       " '81affb342fc98aae0201a6c837cfc3bb',\n",
       " '81bd0c062bfa8e85616878bab90f2314',\n",
       " '820245d8b211808bd18e78ff5be16fdb',\n",
       " '820cc2a44d87d9b3798782f7cc6f2a74',\n",
       " '820dd342da11af3a062d1647b3736fdd',\n",
       " '82289d2db2b1e33d68ba6736b21b0e43',\n",
       " '823b5f08ce145f837066d2e19dab10c1',\n",
       " '8264a875a465c029f28110c725fec283',\n",
       " '8269e2eb69b3ba38c48dd5ae6039e250',\n",
       " '8298238a27be6111214a9bc711608181',\n",
       " '82b9fb9e238397b2f3bff98975577ff9',\n",
       " '82df9b029653e867e86ce9e86ca7275c',\n",
       " '8326bb56a429c54a744484423a9bd9b5',\n",
       " '83463d2951670b7e8c3efd7594a13e10',\n",
       " '834dd009c49e7faaf8e4caba668a2d8f',\n",
       " '8369f716ca2d51c934e7f6d44cb156e9',\n",
       " '83728b6eed98845556bfc870b7567883',\n",
       " '839502f9ff68fd778b435255690f3061',\n",
       " '84402e42c992259ac8cdd98b51d4fba3',\n",
       " '844032970cb66839f748512acba0be8e',\n",
       " '84876a50f52476bcc2a63678257ae8b4',\n",
       " '84a6c418d57bfc5214639012998356d4',\n",
       " '84ed26b5d79da321711ed869b3cad2ea',\n",
       " '85059119462b510aacb6da54983addcf',\n",
       " '85746d90494345e38ab61533e999b3f1',\n",
       " '8589428b683d33b99557d7d3b43a518c',\n",
       " '85ab88f093ca53a4fab5654e24c77ebe',\n",
       " '85d59b470b927e825937ea3483571c6d',\n",
       " '85d6fb4a08853d370935a75de7495a27',\n",
       " '8601f5424bcf4cd8e7bc3d649e9995a2',\n",
       " '8615d91dab90b906088e4097fc822820',\n",
       " '862d1d80391d146b2cd02478a798b365',\n",
       " '86515f063b3a30af09ba4d0322edf7b1',\n",
       " '868b024d9fa388b7ddab12ec1c06af38',\n",
       " '86ad341b9ac27364f03981f6a775246c',\n",
       " '86b3b918b2ad15df1133b52f418a7386',\n",
       " '86ff28a92989348192783795a5b442e5',\n",
       " '87b81bd007c5b23cd0c0aeca722fe52f',\n",
       " '87cdb87db24528fdb8479220a1854b83',\n",
       " '87cdf4626079509e5d6d3c3b6c8bfc2e',\n",
       " '880980cc7e88c83b0fea84f078b849e3',\n",
       " '8815efa67adb15b2f8cfd49ec992f48e',\n",
       " '882107a204c302e27628f85522baea49',\n",
       " '88523579f4e325351665753e903cfdf5',\n",
       " '88acee40bb9d8cb06898d1c5de01d3c8',\n",
       " '88ae66cd575c45ec5bb0f1578e2f1c49',\n",
       " '88be713eb83cec7d31c4553ca05b2019',\n",
       " '8918c484841c5d0a532fe146e9da61bd',\n",
       " '893fbc465b9d8a25569659a2bac154ef',\n",
       " '89629540f3b3cbc2a18d9919facd34d0',\n",
       " '8987df2216ae2ab1a907d52bc9dc540d',\n",
       " '898bd4c517fb9cf94c7d06dae56b0136',\n",
       " '89960d9a801625bf76e9e1047acc5cd5',\n",
       " '89bfbba58ee5cd0e346cdd6ffd3fa3a3',\n",
       " '89f003dbfbdbd18a5cdeb9b128cb075b',\n",
       " '89fbce8f7fe8ecc1bf7067a292c7ab2d',\n",
       " '8a17bbe3cc0079c6d7d7579359bcf565',\n",
       " '8a1e5830a16db34b580202f8b6dbbd3d',\n",
       " '8a1fa06a0099522730dd3c12c9b9cc78',\n",
       " '8a2de07f6e9dbb8c6e4bfad7e83b3f0a',\n",
       " '8a8419bb3048294f69a31de36cd35a98',\n",
       " '8a97ff581c17a49a3ef97144efde8a19',\n",
       " '8aaa3a09b1f20e950609a62a1de511df',\n",
       " '8ad1af382994ce945a5034fab202d402',\n",
       " '8b494d14d835dd5ae13dab19b9520a55',\n",
       " '8b6e16b4e1d1400452956578f8eb97c4',\n",
       " '8b9a28375988de6ea0b143d48b4a8dc9',\n",
       " '8bb7dd5fbfa5ecb95552d9c587f2fea5',\n",
       " '8bbad07d91788b97cf894a05a152d291',\n",
       " '8be7a7cc747365030bee8297221ab5bc',\n",
       " '8c22afe3214768d4c585580a2364614d',\n",
       " '8c2f9e7025d6070e9f4ab8a65c8e9dbb',\n",
       " '8c4d81d9d24d9d66e9ced5f40d07960a',\n",
       " '8c5288b86ffcd597f10d639e9948411d',\n",
       " '8c63c8ebd684911de92509a8a703d567',\n",
       " '8c6f2ce60479f73c257173911aff3453',\n",
       " '8c7b03ed7f61c7faa5a26e126d769404',\n",
       " '8c9925cf3627cd4742bbc8677f905afc',\n",
       " '8cb4c49a88d8ecb99d97cf5d707d58d7',\n",
       " '8d5c4cc78e964463699c19003be70851',\n",
       " '8d98bf96ed8555da4df44f26cc8426bf',\n",
       " '8e0624a689e8e02dbae149771f51f8ca',\n",
       " '8e60f166f1f1dc0d72f997fe1c9e72b4',\n",
       " '8e7638040431e1d91dffa4497f7078d9',\n",
       " '8e9002a485cbda2b47cd14014d6f1c36',\n",
       " '8e92c4db434da3b8d4e3cafce3f072fb',\n",
       " '8ed68f2dbf103a4bc0fd8708d8c1ac93',\n",
       " '8ee6f423ff988d10f2bb383df98c1b2e',\n",
       " '8f0c4220a437192a30ae06d82bf78885',\n",
       " '8f0d9699a15acef00da458eceaf0c846',\n",
       " '8f28d220d960b67f799479f319373c21',\n",
       " '8f4c97d428c70831d74660bca08961b9',\n",
       " '8f517521a2ed576e853fab1907fa5ffd',\n",
       " '8f6e50767b3bc4367bfe551b0ed73773',\n",
       " '8fde44df03fb80366c6604db53d3623f',\n",
       " '8fe50e522e082c3752a0814da32f7e4c',\n",
       " '901ed0a38aa16933c04ffd531b0aa2cf',\n",
       " '90409f7fcfec3581033559f8340e48a9',\n",
       " '9050cf3aa8371bd7088c4bdf967141d4',\n",
       " '90604d9cce6ab054664c8efa7ce61b20',\n",
       " '9065f2b133129c5747d42db18a424749',\n",
       " '90d6324d7006a3d142ee1884279dcf9b',\n",
       " '90e3b396e1c1343a514eb5890833d3d8',\n",
       " '90e5f4780b2f05136ff5f776a5cbc2af',\n",
       " '9109609020945cfc237125dc5f43f7b9',\n",
       " '9139a5b2f18c79a75c2d8ee817cc2495',\n",
       " '916ab7b22affc5651abfc9aae01bb355',\n",
       " '919b9f74bcee297abd6e217d185a025d',\n",
       " '91d0606b85ab7dbc7bab718c1312f2df',\n",
       " '91d29bc19205f8eb9a63de5b774a5575',\n",
       " '91ee390b30927af8804d1f2adf2aefa8',\n",
       " '92286959d1899e9b480d29c545cb1e0f',\n",
       " '92abfd85dd6afb639e9a8b60aaa08262',\n",
       " '92d5f6230c3b6f6256e57d30981c1aaf',\n",
       " '931253c408c440a8494dfaa74251efd3',\n",
       " '933cc0dec1c737d9654820453ce64284',\n",
       " '934bc93ae41ee1d98c7c44d483327f8d',\n",
       " '934f01786c3bdf8eeaf7d8411a3a8f82',\n",
       " '935908ab6e4c329756638887f2dedca2',\n",
       " '9397a41c9e819a92eb5c86e0e652d7c1',\n",
       " '93a6f37a72f60498986374f57bfc30c4',\n",
       " '93b60dbb5cc3fa4c4cc9247cb1143a09',\n",
       " '9437f7c26ffdaca5a9ae5302d9736c35',\n",
       " '9462c59a652187dc2d581b8772bcb3f0',\n",
       " '94cd77da118cc1d667cd9732853f0c48',\n",
       " '94df6d1ae21c5bfaebe6f8daf8fcd85b',\n",
       " '9560214767e1257dc97c5103a27f1d2c',\n",
       " '9569bb8d5fc4461461078b2e2ca29f1f',\n",
       " '95a27273c11db8bfb9fc27b1e64de6bd',\n",
       " '95a98df466d4f6c6689908ea9a8f324b',\n",
       " '95edad4544e59e37188dd33db40cecb7',\n",
       " '96042e205dd3dc055f084aaca245e550',\n",
       " '9626af3a0a37c4fa5187447f01aa69da',\n",
       " '96544665531e7f59bc2730e3c5f42e65',\n",
       " '965fbaad39ecdaf8a135f022c8ddaef3',\n",
       " '9660e4a23b8dd7d5056a622ee3568a41',\n",
       " '968808e60982c76366088b4db7254671',\n",
       " '96acca47671874c41de6023942e10c16',\n",
       " '96cca9d8e5764daa4bcb6c0ba07735bc',\n",
       " '96dce4424dce5451ab0a068c58435c1b',\n",
       " '96fdfdfc4417d5bf8e6750edbac8ff90',\n",
       " '9703fd051751879432975535663150da',\n",
       " '9759889dcee7ed0043d06e03fb44060d',\n",
       " '9759a365f7a8b828e964b0a53cc2daf8',\n",
       " '975c90ab2afd216efbb6b772a22ba3d9',\n",
       " '975f7f3c5bad9e9f0bc31e723fd6f793',\n",
       " '97967da068bd4ee2d9cb7558f1d8c18c',\n",
       " '9842a3b9dfabab4ae8642d9953058ce4',\n",
       " '98bde8f061ae92dd23b0708fdf41381e',\n",
       " '98ea0b7d586e5e888e31633772f4df94',\n",
       " '990fbe3f0a1b53878669967b9afd1441',\n",
       " '991a2fe88aeb9ef23bb011e3843c9105',\n",
       " '993f1e68290d591f755669e97b49b4f4',\n",
       " '99579bbe92d0bb4d5cd98982305870af',\n",
       " '995fc0581ed0e3ba0f97dbd7fe63db59',\n",
       " '99ce8aa6c0afe0e418f49823f8639776',\n",
       " '9a3174ffe867f602ee82c512a01420ee',\n",
       " '9a378249b799bbcefac2a7de46896c0a',\n",
       " '9a5c2aa17362a58ae8adcb4e0a46c7e0',\n",
       " '9b259149a750af0c21640624e4be964a',\n",
       " '9b4f0020e407fd7f980f4241fb6ac7ce',\n",
       " '9b7524785a9bf40f0651deeb3b05b75f',\n",
       " '9b797e680158d10e5ae2f9166c1dabb4',\n",
       " '9b871732b3935661e7639e84a6ab9747',\n",
       " '9ba5fbcccfbc9e08edcfe2258ddf7178',\n",
       " '9bf3ca649999bc6856ad9f01c64eb7e4',\n",
       " '9c779a4e5e56c77131f8e99d5eacb766',\n",
       " '9ca18e68b6b8d9c3112b4b69b7d6fad5',\n",
       " '9cc74e673ec9807ee055973e1b185624',\n",
       " '9ce92cb785c9878389bd5f765a07e1ae',\n",
       " '9d44fcc8ab801ac9244da4c016d0541e',\n",
       " '9d453de54a141820fcf62bed9a53540d',\n",
       " '9d89b32f7dea356b2d35cead7bc94d80',\n",
       " '9d8bdc380b51812ba82a6040ef207c33',\n",
       " '9db8f95c3240b79c32af0c0bd367dd91',\n",
       " '9de48cf43611478ffc1fef051b75dc8c',\n",
       " '9de4a1ebcdf1cfd8566ed1d9b63cbeb7',\n",
       " '9e249726076fa41af6766e12957a7e9d',\n",
       " '9e471e15d44721a48d8b5f4b0a160dd6',\n",
       " '9e5c2e760b94b8919691d344cfdbac7f',\n",
       " '9e680611b54f8fad7acf818b15385002',\n",
       " '9e878fd779fb4d20aaa80db151643442',\n",
       " '9e922147900b3984c9345bdda573e882',\n",
       " '9e98136d07b953c3362e0a132c8810b6',\n",
       " '9f12d2d6134af032932ed37776c6d09f',\n",
       " '9f19c381184ba62416025849c464630e',\n",
       " '9f49140c0447a0c3108ba3591b11958f',\n",
       " '9f52323d216f89d300612cfac0122d8b',\n",
       " '9f73628a5e06cfc6723f3ee2ae4b96c4',\n",
       " '9fc639cbbd749117de4980420ae52cf3',\n",
       " 'a01074fefbae0234398c365adf970118',\n",
       " 'a0cdb677841933136fd15257e3c47fe6',\n",
       " 'a0e60d7a13f6bb4002cc4a08e60b0776',\n",
       " 'a0fc609febe3eef5a4713a22996cf8e5',\n",
       " 'a13d6c5f8f86d74e16c10cf9294bca31',\n",
       " 'a14e41eea93d7667a87d458d5cb28272',\n",
       " 'a15d4fd19fb32f4858f472962c4bb230',\n",
       " 'a162d204827e4e89a2e5ba81cc53247a',\n",
       " 'a187b24f9827de759fb86a84e9b2e544',\n",
       " 'a19a122fe9a790576b57c6bd5cf9ff5c',\n",
       " 'a1b021261acaa7ffedfe15d2c8380de1',\n",
       " 'a2558184e0f4a68e9fb13579d20cb244',\n",
       " 'a26bba2936f12f19893e54b40e0759fe',\n",
       " 'a2a4bc7708f6831470d757cd6f32bffe',\n",
       " 'a2c59fd551d9c658f8469726b66bee87',\n",
       " 'a2d9e657a673798f9ebdfec1b361f93a',\n",
       " 'a2f41e283f3c797e85c0b9d63453b365',\n",
       " 'a2fc15125f7e222b3d8d579167f4fc95',\n",
       " ...]"
      ]
     },
     "execution_count": 5,
     "metadata": {},
     "output_type": "execute_result"
    }
   ],
   "source": [
    "patients"
   ]
  },
  {
   "cell_type": "code",
   "execution_count": 6,
   "metadata": {
    "collapsed": true
   },
   "outputs": [],
   "source": [
    "# Load the scans in given folder path\n",
    "def load_scan(path):\n",
    "    slices = [dicom.read_file(path + '/' + s) for s in os.listdir(path)]\n",
    "    slices.sort(key = lambda x: int(x.ImagePositionPatient[2]))\n",
    "    \n",
    "    # This works because of DICOM definiion\n",
    "    try:\n",
    "        slice_thickness = np.abs(slices[0].ImagePositionPatient[2] - slices[1].ImagePositionPatient[2])\n",
    "    except:\n",
    "        slice_thickness = np.abs(slices[0].SliceLocation - slices[1].SliceLocation)\n",
    "    \n",
    "    # Slick thickness is important in later resampling\n",
    "    for s in slices:\n",
    "        s.SliceThickness = slice_thickness\n",
    "    \n",
    "    return slices"
   ]
  },
  {
   "cell_type": "code",
   "execution_count": 7,
   "metadata": {
    "collapsed": false,
    "scrolled": false
   },
   "outputs": [],
   "source": [
    "slices = load_scan('./Data/stage1/' + patients[0])"
   ]
  },
  {
   "cell_type": "code",
   "execution_count": 8,
   "metadata": {
    "collapsed": false,
    "scrolled": true
   },
   "outputs": [
    {
     "name": "stdout",
     "output_type": "stream",
     "text": [
      "['-177.500000', '-177.500000', '-384.109985']\n",
      "['-177.500000', '-177.500000', '-382.109985']\n",
      "['-177.500000', '-177.500000', '-380.109985']\n",
      "['-177.500000', '-177.500000', '-378.109985']\n",
      "['-177.500000', '-177.500000', '-376.109985']\n",
      "['-177.500000', '-177.500000', '-374.109985']\n",
      "['-177.500000', '-177.500000', '-372.109985']\n",
      "['-177.500000', '-177.500000', '-370.109985']\n",
      "['-177.500000', '-177.500000', '-368.109985']\n",
      "['-177.500000', '-177.500000', '-366.109985']\n",
      "['-177.500000', '-177.500000', '-364.109985']\n",
      "['-177.500000', '-177.500000', '-362.109985']\n",
      "['-177.500000', '-177.500000', '-360.109985']\n",
      "['-177.500000', '-177.500000', '-358.109985']\n",
      "['-177.500000', '-177.500000', '-356.109985']\n",
      "['-177.500000', '-177.500000', '-354.109985']\n",
      "['-177.500000', '-177.500000', '-352.109985']\n",
      "['-177.500000', '-177.500000', '-350.109985']\n",
      "['-177.500000', '-177.500000', '-348.109985']\n",
      "['-177.500000', '-177.500000', '-346.109985']\n",
      "['-177.500000', '-177.500000', '-344.109985']\n",
      "['-177.500000', '-177.500000', '-342.109985']\n",
      "['-177.500000', '-177.500000', '-340.109985']\n",
      "['-177.500000', '-177.500000', '-338.109985']\n",
      "['-177.500000', '-177.500000', '-336.109985']\n",
      "['-177.500000', '-177.500000', '-334.109985']\n",
      "['-177.500000', '-177.500000', '-332.109985']\n",
      "['-177.500000', '-177.500000', '-330.109985']\n",
      "['-177.500000', '-177.500000', '-328.109985']\n",
      "['-177.500000', '-177.500000', '-326.109985']\n",
      "['-177.500000', '-177.500000', '-324.109985']\n",
      "['-177.500000', '-177.500000', '-322.109985']\n",
      "['-177.500000', '-177.500000', '-320.109985']\n",
      "['-177.500000', '-177.500000', '-318.109985']\n",
      "['-177.500000', '-177.500000', '-316.109985']\n",
      "['-177.500000', '-177.500000', '-314.109985']\n",
      "['-177.500000', '-177.500000', '-312.109985']\n",
      "['-177.500000', '-177.500000', '-310.109985']\n",
      "['-177.500000', '-177.500000', '-308.109985']\n",
      "['-177.500000', '-177.500000', '-306.109985']\n",
      "['-177.500000', '-177.500000', '-304.109985']\n",
      "['-177.500000', '-177.500000', '-302.109985']\n",
      "['-177.500000', '-177.500000', '-300.109985']\n",
      "['-177.500000', '-177.500000', '-298.109985']\n",
      "['-177.500000', '-177.500000', '-296.109985']\n",
      "['-177.500000', '-177.500000', '-294.109985']\n",
      "['-177.500000', '-177.500000', '-292.109985']\n",
      "['-177.500000', '-177.500000', '-290.109985']\n",
      "['-177.500000', '-177.500000', '-288.109985']\n",
      "['-177.500000', '-177.500000', '-286.109985']\n",
      "['-177.500000', '-177.500000', '-284.109985']\n",
      "['-177.500000', '-177.500000', '-282.109985']\n",
      "['-177.500000', '-177.500000', '-280.109985']\n",
      "['-177.500000', '-177.500000', '-278.109985']\n",
      "['-177.500000', '-177.500000', '-276.109985']\n",
      "['-177.500000', '-177.500000', '-274.109985']\n",
      "['-177.500000', '-177.500000', '-272.109985']\n",
      "['-177.500000', '-177.500000', '-270.109985']\n",
      "['-177.500000', '-177.500000', '-268.109985']\n",
      "['-177.500000', '-177.500000', '-266.109985']\n",
      "['-177.500000', '-177.500000', '-264.109985']\n",
      "['-177.500000', '-177.500000', '-262.109985']\n",
      "['-177.500000', '-177.500000', '-260.109985']\n",
      "['-177.500000', '-177.500000', '-258.109985']\n",
      "['-177.500000', '-177.500000', '-256.109985']\n",
      "['-177.500000', '-177.500000', '-254.110001']\n",
      "['-177.500000', '-177.500000', '-252.110001']\n",
      "['-177.500000', '-177.500000', '-250.110001']\n",
      "['-177.500000', '-177.500000', '-248.110001']\n",
      "['-177.500000', '-177.500000', '-246.110001']\n",
      "['-177.500000', '-177.500000', '-244.110001']\n",
      "['-177.500000', '-177.500000', '-242.110001']\n",
      "['-177.500000', '-177.500000', '-240.110001']\n",
      "['-177.500000', '-177.500000', '-238.110001']\n",
      "['-177.500000', '-177.500000', '-236.110001']\n",
      "['-177.500000', '-177.500000', '-234.110001']\n",
      "['-177.500000', '-177.500000', '-232.110001']\n",
      "['-177.500000', '-177.500000', '-230.110001']\n",
      "['-177.500000', '-177.500000', '-228.110001']\n",
      "['-177.500000', '-177.500000', '-226.110001']\n",
      "['-177.500000', '-177.500000', '-224.110001']\n",
      "['-177.500000', '-177.500000', '-222.110001']\n",
      "['-177.500000', '-177.500000', '-220.110001']\n",
      "['-177.500000', '-177.500000', '-218.110001']\n",
      "['-177.500000', '-177.500000', '-216.110001']\n",
      "['-177.500000', '-177.500000', '-214.110001']\n",
      "['-177.500000', '-177.500000', '-212.110001']\n",
      "['-177.500000', '-177.500000', '-210.110001']\n",
      "['-177.500000', '-177.500000', '-208.110001']\n",
      "['-177.500000', '-177.500000', '-206.110001']\n",
      "['-177.500000', '-177.500000', '-204.110001']\n",
      "['-177.500000', '-177.500000', '-202.110001']\n",
      "['-177.500000', '-177.500000', '-200.110001']\n",
      "['-177.500000', '-177.500000', '-198.110001']\n",
      "['-177.500000', '-177.500000', '-196.110001']\n",
      "['-177.500000', '-177.500000', '-194.110001']\n",
      "['-177.500000', '-177.500000', '-192.110001']\n",
      "['-177.500000', '-177.500000', '-190.110001']\n",
      "['-177.500000', '-177.500000', '-188.110001']\n",
      "['-177.500000', '-177.500000', '-186.110001']\n",
      "['-177.500000', '-177.500000', '-184.110001']\n",
      "['-177.500000', '-177.500000', '-182.110001']\n",
      "['-177.500000', '-177.500000', '-180.110001']\n",
      "['-177.500000', '-177.500000', '-178.110001']\n",
      "['-177.500000', '-177.500000', '-176.110001']\n",
      "['-177.500000', '-177.500000', '-174.110001']\n",
      "['-177.500000', '-177.500000', '-172.110001']\n",
      "['-177.500000', '-177.500000', '-170.110001']\n",
      "['-177.500000', '-177.500000', '-168.110001']\n",
      "['-177.500000', '-177.500000', '-166.110001']\n",
      "['-177.500000', '-177.500000', '-164.110001']\n",
      "['-177.500000', '-177.500000', '-162.110001']\n",
      "['-177.500000', '-177.500000', '-160.110001']\n",
      "['-177.500000', '-177.500000', '-158.110001']\n",
      "['-177.500000', '-177.500000', '-156.110001']\n",
      "['-177.500000', '-177.500000', '-154.110001']\n",
      "['-177.500000', '-177.500000', '-152.110001']\n",
      "['-177.500000', '-177.500000', '-150.110001']\n",
      "['-177.500000', '-177.500000', '-148.110001']\n",
      "['-177.500000', '-177.500000', '-146.110001']\n",
      "['-177.500000', '-177.500000', '-144.110001']\n",
      "['-177.500000', '-177.500000', '-142.110001']\n",
      "['-177.500000', '-177.500000', '-140.110001']\n",
      "['-177.500000', '-177.500000', '-138.110001']\n",
      "['-177.500000', '-177.500000', '-136.110001']\n",
      "['-177.500000', '-177.500000', '-134.110001']\n",
      "['-177.500000', '-177.500000', '-132.110001']\n",
      "['-177.500000', '-177.500000', '-130.110001']\n",
      "['-177.500000', '-177.500000', '-128.110001']\n",
      "['-177.500000', '-177.500000', '-126.110001']\n",
      "['-177.500000', '-177.500000', '-124.110001']\n",
      "['-177.500000', '-177.500000', '-122.110001']\n",
      "['-177.500000', '-177.500000', '-120.110001']\n",
      "['-177.500000', '-177.500000', '-118.110001']\n",
      "['-177.500000', '-177.500000', '-116.110001']\n",
      "['-177.500000', '-177.500000', '-114.110001']\n",
      "['-177.500000', '-177.500000', '-112.110001']\n",
      "['-177.500000', '-177.500000', '-110.110001']\n",
      "['-177.500000', '-177.500000', '-108.110001']\n",
      "['-177.500000', '-177.500000', '-106.110001']\n",
      "['-177.500000', '-177.500000', '-104.110001']\n",
      "['-177.500000', '-177.500000', '-102.110001']\n",
      "['-177.500000', '-177.500000', '-100.110001']\n",
      "['-177.500000', '-177.500000', '-98.110001']\n",
      "['-177.500000', '-177.500000', '-96.110001']\n",
      "['-177.500000', '-177.500000', '-94.110001']\n",
      "['-177.500000', '-177.500000', '-92.110001']\n",
      "['-177.500000', '-177.500000', '-90.110001']\n",
      "['-177.500000', '-177.500000', '-88.110001']\n",
      "['-177.500000', '-177.500000', '-86.110001']\n",
      "['-177.500000', '-177.500000', '-84.110001']\n",
      "['-177.500000', '-177.500000', '-82.110001']\n",
      "['-177.500000', '-177.500000', '-80.110001']\n",
      "['-177.500000', '-177.500000', '-78.110001']\n",
      "['-177.500000', '-177.500000', '-76.110001']\n",
      "['-177.500000', '-177.500000', '-74.110001']\n",
      "['-177.500000', '-177.500000', '-72.110001']\n",
      "['-177.500000', '-177.500000', '-70.110001']\n",
      "['-177.500000', '-177.500000', '-68.110001']\n",
      "['-177.500000', '-177.500000', '-66.110001']\n",
      "['-177.500000', '-177.500000', '-64.110001']\n",
      "['-177.500000', '-177.500000', '-62.110001']\n",
      "['-177.500000', '-177.500000', '-60.110001']\n",
      "['-177.500000', '-177.500000', '-58.110001']\n",
      "['-177.500000', '-177.500000', '-56.110001']\n",
      "['-177.500000', '-177.500000', '-54.110001']\n",
      "['-177.500000', '-177.500000', '-52.110001']\n",
      "['-177.500000', '-177.500000', '-50.110001']\n",
      "['-177.500000', '-177.500000', '-48.110001']\n",
      "['-177.500000', '-177.500000', '-46.110001']\n",
      "['-177.500000', '-177.500000', '-44.110001']\n",
      "['-177.500000', '-177.500000', '-42.110001']\n",
      "['-177.500000', '-177.500000', '-40.110001']\n",
      "['-177.500000', '-177.500000', '-38.110001']\n",
      "['-177.500000', '-177.500000', '-36.110001']\n",
      "['-177.500000', '-177.500000', '-34.110001']\n",
      "['-177.500000', '-177.500000', '-32.110001']\n",
      "['-177.500000', '-177.500000', '-30.110001']\n",
      "['-177.500000', '-177.500000', '-28.110001']\n",
      "['-177.500000', '-177.500000', '-26.110001']\n",
      "['-177.500000', '-177.500000', '-24.110001']\n",
      "['-177.500000', '-177.500000', '-22.110001']\n",
      "['-177.500000', '-177.500000', '-20.110001']\n",
      "['-177.500000', '-177.500000', '-18.110001']\n",
      "['-177.500000', '-177.500000', '-16.110001']\n",
      "['-177.500000', '-177.500000', '-14.110000']\n",
      "['-177.500000', '-177.500000', '-12.110000']\n",
      "['-177.500000', '-177.500000', '-10.110000']\n",
      "['-177.500000', '-177.500000', '-8.110000']\n",
      "['-177.500000', '-177.500000', '-6.110000']\n",
      "['-177.500000', '-177.500000', '-4.110000']\n",
      "['-177.500000', '-177.500000', '-2.110000']\n",
      "['-177.500000', '-177.500000', '-0.110000']\n",
      "['-177.500000', '-177.500000', '1.890000']\n",
      "['-177.500000', '-177.500000', '3.890000']\n"
     ]
    }
   ],
   "source": [
    "for s in slices:\n",
    "    print(s.ImagePositionPatient)"
   ]
  },
  {
   "cell_type": "code",
   "execution_count": 9,
   "metadata": {
    "collapsed": false,
    "scrolled": true
   },
   "outputs": [
    {
     "data": {
      "text/plain": [
       "['AcquisitionNumber',\n",
       " 'BitsAllocated',\n",
       " 'BitsStored',\n",
       " 'BurnedInAnnotation',\n",
       " 'Columns',\n",
       " 'FrameOfReferenceUID',\n",
       " 'HighBit',\n",
       " 'ImageOrientationPatient',\n",
       " 'ImagePositionPatient',\n",
       " 'InstanceNumber',\n",
       " 'KVP',\n",
       " 'LongitudinalTemporalInformationModified',\n",
       " 'Modality',\n",
       " 'PatientBirthDate',\n",
       " 'PatientID',\n",
       " 'PatientName',\n",
       " 'PhotometricInterpretation',\n",
       " 'PixelData',\n",
       " 'PixelPaddingValue',\n",
       " 'PixelRepresentation',\n",
       " 'PixelSpacing',\n",
       " 'PositionReferenceIndicator',\n",
       " 'RescaleIntercept',\n",
       " 'RescaleSlope',\n",
       " 'Rows',\n",
       " 'SOPClassUID',\n",
       " 'SOPInstanceUID',\n",
       " 'SamplesPerPixel',\n",
       " 'SeriesDescription',\n",
       " 'SeriesInstanceUID',\n",
       " 'SeriesNumber',\n",
       " 'SliceLocation',\n",
       " 'SliceThickness',\n",
       " 'SpecificCharacterSet',\n",
       " 'StudyInstanceUID',\n",
       " 'WindowCenter',\n",
       " 'WindowWidth',\n",
       " '__cmp__',\n",
       " '__contains__',\n",
       " '__delattr__',\n",
       " '__delitem__',\n",
       " '__dir__',\n",
       " '__eq__',\n",
       " '__format__',\n",
       " '__ge__',\n",
       " '__getattr__',\n",
       " '__getattribute__',\n",
       " '__getitem__',\n",
       " '__gt__',\n",
       " '__init__',\n",
       " '__iter__',\n",
       " '__le__',\n",
       " '__len__',\n",
       " '__lt__',\n",
       " '__ne__',\n",
       " '__new__',\n",
       " '__reduce__',\n",
       " '__reduce_ex__',\n",
       " '__repr__',\n",
       " '__setattr__',\n",
       " '__setitem__',\n",
       " '__sizeof__',\n",
       " '__str__',\n",
       " '__subclasshook__',\n",
       " '__weakref__',\n",
       " '_character_set',\n",
       " '_get_pixel_array',\n",
       " '_pixel_data_numpy',\n",
       " '_pretty_str',\n",
       " 'add',\n",
       " 'add_new',\n",
       " 'clear',\n",
       " 'copy',\n",
       " 'data_element',\n",
       " 'decode',\n",
       " 'dir',\n",
       " 'formatted_lines',\n",
       " 'fromkeys',\n",
       " 'get',\n",
       " 'get_item',\n",
       " 'group_dataset',\n",
       " 'has_key',\n",
       " 'items',\n",
       " 'iterall',\n",
       " 'iteritems',\n",
       " 'iterkeys',\n",
       " 'itervalues',\n",
       " 'keys',\n",
       " 'pixel_array',\n",
       " 'pop',\n",
       " 'popitem',\n",
       " 'remove_private_tags',\n",
       " 'save_as',\n",
       " 'setdefault',\n",
       " 'top',\n",
       " 'trait_names',\n",
       " 'update',\n",
       " 'values',\n",
       " 'viewitems',\n",
       " 'viewkeys',\n",
       " 'viewvalues',\n",
       " 'walk']"
      ]
     },
     "execution_count": 9,
     "metadata": {},
     "output_type": "execute_result"
    }
   ],
   "source": [
    "dir(slices[0])"
   ]
  },
  {
   "cell_type": "code",
   "execution_count": 10,
   "metadata": {
    "collapsed": false
   },
   "outputs": [
    {
     "data": {
      "text/plain": [
       "(195, 512, 512)"
      ]
     },
     "execution_count": 10,
     "metadata": {},
     "output_type": "execute_result"
    }
   ],
   "source": [
    "np.array([s.pixel_array for s in slices]).shape"
   ]
  },
  {
   "cell_type": "code",
   "execution_count": 11,
   "metadata": {
    "collapsed": false
   },
   "outputs": [
    {
     "data": {
      "text/plain": [
       "(195, 512, 512)"
      ]
     },
     "execution_count": 11,
     "metadata": {},
     "output_type": "execute_result"
    }
   ],
   "source": [
    "np.stack([s.pixel_array for s in slices]).shape"
   ]
  },
  {
   "cell_type": "code",
   "execution_count": 12,
   "metadata": {
    "collapsed": false
   },
   "outputs": [
    {
     "data": {
      "text/plain": [
       "195"
      ]
     },
     "execution_count": 12,
     "metadata": {},
     "output_type": "execute_result"
    }
   ],
   "source": [
    "len(slices)"
   ]
  },
  {
   "cell_type": "code",
   "execution_count": 13,
   "metadata": {
    "collapsed": true
   },
   "outputs": [],
   "source": [
    "def get_pixels_hu(slices):\n",
    "    #np.array() should also work according to the preceding cells\n",
    "    image = np.stack([s.pixel_array for s in slices])\n",
    "    # Convert to int16 (from sometimes int16), \n",
    "    # should be possible as values should always be low enough (<32k)\n",
    "    image = image.astype(np.int16)\n",
    "\n",
    "    # Set outside-of-scan pixels to 0\n",
    "    # The intercept is usually -1024, so air is approximately 0\n",
    "    image[image == -2000] = 0\n",
    "    \n",
    "    # Convert to Hounsfield units (HU)\n",
    "    # TODO: Understand what `intercept` and `slope` is\n",
    "    for slice_number in range(len(slices)):\n",
    "        \n",
    "        intercept = slices[slice_number].RescaleIntercept\n",
    "        slope = slices[slice_number].RescaleSlope\n",
    "        \n",
    "        if slope != 1:\n",
    "            image[slice_number] = slope * image[slice_number].astype(np.float64)\n",
    "            image[slice_number] = image[slice_number].astype(np.int16)\n",
    "            \n",
    "        image[slice_number] += np.int16(intercept)\n",
    "    \n",
    "    return np.array(image, dtype=np.int16)"
   ]
  },
  {
   "cell_type": "code",
   "execution_count": 14,
   "metadata": {
    "collapsed": false
   },
   "outputs": [
    {
     "data": {
      "image/png": "[encoded data removed]",
      "text/plain": [
       "<matplotlib.figure.Figure at 0x7f4f7edefcd0>"
      ]
     },
     "metadata": {},
     "output_type": "display_data"
    },
    {
     "data": {
      "image/png": "[encoded data removed]",
      "text/plain": [
       "<matplotlib.figure.Figure at 0x7f4fc86c8250>"
      ]
     },
     "metadata": {},
     "output_type": "display_data"
    }
   ],
   "source": [
    "# patients[0] is .DS_Store on a Mac\n",
    "first_patient = load_scan(INPUT_FOLDER + patients[1])\n",
    "first_patient_pixels = get_pixels_hu(first_patient)\n",
    "plt.hist(first_patient_pixels.flatten(), bins=80, color='c')\n",
    "plt.xlabel(\"Hounsfield Units (HU)\")\n",
    "plt.ylabel(\"Frequency\")\n",
    "plt.show()\n",
    "\n",
    "# Show some slice in the middle\n",
    "plt.imshow(first_patient_pixels[80], cmap=plt.cm.gray)\n",
    "plt.show()"
   ]
  },
  {
   "cell_type": "code",
   "execution_count": 15,
   "metadata": {
    "collapsed": false
   },
   "outputs": [],
   "source": [
    "verts, faces = measure.marching_cubes(first_patient_pixels, 400)"
   ]
  },
  {
   "cell_type": "code",
   "execution_count": 16,
   "metadata": {
    "collapsed": false
   },
   "outputs": [
    {
     "data": {
      "text/plain": [
       "(1206404, 3)"
      ]
     },
     "execution_count": 16,
     "metadata": {},
     "output_type": "execute_result"
    }
   ],
   "source": [
    "verts.shape"
   ]
  },
  {
   "cell_type": "code",
   "execution_count": 17,
   "metadata": {
    "collapsed": false
   },
   "outputs": [
    {
     "data": {
      "text/plain": [
       "(2372915, 3, 3)"
      ]
     },
     "execution_count": 17,
     "metadata": {},
     "output_type": "execute_result"
    }
   ],
   "source": [
    "verts[faces].shape"
   ]
  },
  {
   "cell_type": "code",
   "execution_count": 18,
   "metadata": {
    "collapsed": false
   },
   "outputs": [
    {
     "data": {
      "text/plain": [
       "array([[  0.00000000e+00,   1.48534091e+02,   4.56000000e+02],\n",
       "       [  2.61146497e-01,   1.49000000e+02,   4.56000000e+02],\n",
       "       [  0.00000000e+00,   1.49000000e+02,   4.55633929e+02]])"
      ]
     },
     "execution_count": 18,
     "metadata": {},
     "output_type": "execute_result"
    }
   ],
   "source": [
    "verts[faces[0]]"
   ]
  },
  {
   "cell_type": "code",
   "execution_count": 19,
   "metadata": {
    "collapsed": false
   },
   "outputs": [],
   "source": [
    "mesh = Poly3DCollection(verts[faces], alpha=0.1)"
   ]
  },
  {
   "cell_type": "code",
   "execution_count": null,
   "metadata": {
    "collapsed": true
   },
   "outputs": [],
   "source": [
    "mesh.set_facecolor([0.5, 0.5, 1])"
   ]
  },
  {
   "cell_type": "code",
   "execution_count": null,
   "metadata": {
    "collapsed": false
   },
   "outputs": [],
   "source": [
    "# fig = plt.figure()\n",
    "# ax = fig.add_subplot(212, projection='3d')\n",
    "# ax.add_collection3d(mesh)\n",
    "# ax.set_xlim(0, first_patient_pixels.shape[0])\n",
    "# ax.set_ylim(0, first_patient_pixels.shape[1])\n",
    "# ax.set_zlim(0, first_patient_pixels.shape[2])\n",
    "# plt.show()"
   ]
  },
  {
   "cell_type": "code",
   "execution_count": 20,
   "metadata": {
    "collapsed": true
   },
   "outputs": [],
   "source": [
    "def plot_3d(image, threshold=-300):\n",
    "    \n",
    "    # Position the scan upright, \n",
    "    # so the head of the patient would be at the top facing the camera\n",
    "    # p = image.transpose(2,1,0)\n",
    "    p = image\n",
    "    \n",
    "    verts, faces = measure.marching_cubes(p, threshold)\n",
    "    print(verts[faces].shape)\n",
    "\n",
    "    fig = plt.figure(figsize=(10, 10))\n",
    "    ax = fig.add_subplot(111, projection='3d')\n",
    "    print(fig)\n",
    "\n",
    "    # Fancy indexing: `verts[faces]` to generate a collection of triangles\n",
    "    mesh = Poly3DCollection(verts[faces], alpha=0.1)\n",
    "    face_color = [0.5, 0.5, 1]\n",
    "    mesh.set_facecolor(face_color)\n",
    "    ax.add_collection3d(mesh)\n",
    "\n",
    "    ax.set_xlim(0, p.shape[0])\n",
    "    ax.set_ylim(0, p.shape[1])\n",
    "    ax.set_zlim(0, p.shape[2])\n",
    "\n",
    "    plt.show()"
   ]
  },
  {
   "cell_type": "code",
   "execution_count": 21,
   "metadata": {
    "collapsed": false
   },
   "outputs": [
    {
     "name": "stdout",
     "output_type": "stream",
     "text": [
      "(2372915, 3, 3)\n",
      "Figure(720x720)\n"
     ]
    },
    {
     "data": {
      "image/png": "[encoded data removed]",
      "text/plain": [
       "<matplotlib.figure.Figure at 0x7f4f9a5580d0>"
      ]
     },
     "metadata": {},
     "output_type": "display_data"
    }
   ],
   "source": [
    "plot_3d(first_patient_pixels, 400)"
   ]
  },
  {
   "cell_type": "code",
   "execution_count": 20,
   "metadata": {
    "collapsed": false
   },
   "outputs": [],
   "source": [
    "scan = first_patient"
   ]
  },
  {
   "cell_type": "code",
   "execution_count": 21,
   "metadata": {
    "collapsed": false
   },
   "outputs": [],
   "source": [
    "image = first_patient_pixels"
   ]
  },
  {
   "cell_type": "code",
   "execution_count": 22,
   "metadata": {
    "collapsed": false
   },
   "outputs": [
    {
     "data": {
      "text/plain": [
       "'2.5'"
      ]
     },
     "execution_count": 22,
     "metadata": {},
     "output_type": "execute_result"
    }
   ],
   "source": [
    "scan[0].SliceThickness"
   ]
  },
  {
   "cell_type": "code",
   "execution_count": 23,
   "metadata": {
    "collapsed": false
   },
   "outputs": [
    {
     "data": {
      "text/plain": [
       "['2.5']"
      ]
     },
     "execution_count": 23,
     "metadata": {},
     "output_type": "execute_result"
    }
   ],
   "source": [
    "[scan[0].SliceThickness]"
   ]
  },
  {
   "cell_type": "code",
   "execution_count": 24,
   "metadata": {
    "collapsed": false
   },
   "outputs": [
    {
     "data": {
      "text/plain": [
       "['0.677734', '0.677734']"
      ]
     },
     "execution_count": 24,
     "metadata": {},
     "output_type": "execute_result"
    }
   ],
   "source": [
    "scan[0].PixelSpacing"
   ]
  },
  {
   "cell_type": "code",
   "execution_count": 25,
   "metadata": {
    "collapsed": false
   },
   "outputs": [
    {
     "data": {
      "text/plain": [
       "['2.5', '0.677734', '0.677734']"
      ]
     },
     "execution_count": 25,
     "metadata": {},
     "output_type": "execute_result"
    }
   ],
   "source": [
    "[scan[0].SliceThickness] + scan[0].PixelSpacing"
   ]
  },
  {
   "cell_type": "code",
   "execution_count": 29,
   "metadata": {
    "collapsed": false
   },
   "outputs": [
    {
     "data": {
      "text/plain": [
       "array([ 2.5       ,  0.67773402,  0.67773402], dtype=float32)"
      ]
     },
     "execution_count": 29,
     "metadata": {},
     "output_type": "execute_result"
    }
   ],
   "source": [
    "np.array([scan[0].SliceThickness] + scan[0].PixelSpacing, dtype=np.float32)"
   ]
  },
  {
   "cell_type": "code",
   "execution_count": 30,
   "metadata": {
    "collapsed": true
   },
   "outputs": [],
   "source": [
    "spacing = np.array([scan[0].SliceThickness] + scan[0].PixelSpacing, dtype=np.float32)"
   ]
  },
  {
   "cell_type": "code",
   "execution_count": 32,
   "metadata": {
    "collapsed": true
   },
   "outputs": [],
   "source": [
    "new_spacing = [1, 1, 1]"
   ]
  },
  {
   "cell_type": "code",
   "execution_count": 33,
   "metadata": {
    "collapsed": false
   },
   "outputs": [
    {
     "data": {
      "text/plain": [
       "array([ 2.5       ,  0.67773402,  0.67773402])"
      ]
     },
     "execution_count": 33,
     "metadata": {},
     "output_type": "execute_result"
    }
   ],
   "source": [
    "spacing / new_spacing"
   ]
  },
  {
   "cell_type": "code",
   "execution_count": 31,
   "metadata": {
    "collapsed": false
   },
   "outputs": [],
   "source": [
    "resize_factor = spacing / new_spacing"
   ]
  },
  {
   "cell_type": "code",
   "execution_count": 34,
   "metadata": {
    "collapsed": false
   },
   "outputs": [
    {
     "data": {
      "text/plain": [
       "(118, 512, 512)"
      ]
     },
     "execution_count": 34,
     "metadata": {},
     "output_type": "execute_result"
    }
   ],
   "source": [
    "image.shape"
   ]
  },
  {
   "cell_type": "code",
   "execution_count": 36,
   "metadata": {
    "collapsed": false
   },
   "outputs": [
    {
     "data": {
      "text/plain": [
       "array([ 295.        ,  346.99981689,  346.99981689])"
      ]
     },
     "execution_count": 36,
     "metadata": {},
     "output_type": "execute_result"
    }
   ],
   "source": [
    "image.shape * resize_factor"
   ]
  },
  {
   "cell_type": "code",
   "execution_count": 43,
   "metadata": {
    "collapsed": false
   },
   "outputs": [
    {
     "data": {
      "text/plain": [
       "array([ 295.,  347.,  347.])"
      ]
     },
     "execution_count": 43,
     "metadata": {},
     "output_type": "execute_result"
    }
   ],
   "source": [
    "np.round(image.shape * resize_factor)"
   ]
  },
  {
   "cell_type": "code",
   "execution_count": 39,
   "metadata": {
    "collapsed": true
   },
   "outputs": [],
   "source": [
    "new_shape = np.round(new_real_shape)"
   ]
  },
  {
   "cell_type": "code",
   "execution_count": 40,
   "metadata": {
    "collapsed": false
   },
   "outputs": [
    {
     "data": {
      "text/plain": [
       "array([ 2.5       ,  0.67773438,  0.67773438])"
      ]
     },
     "execution_count": 40,
     "metadata": {},
     "output_type": "execute_result"
    }
   ],
   "source": [
    "new_shape / image.shape"
   ]
  },
  {
   "cell_type": "code",
   "execution_count": 44,
   "metadata": {
    "collapsed": true
   },
   "outputs": [],
   "source": [
    "actual_resize_factor = np.round(image.shape * resize_factor) / image.shape"
   ]
  },
  {
   "cell_type": "code",
   "execution_count": 45,
   "metadata": {
    "collapsed": false
   },
   "outputs": [
    {
     "data": {
      "text/plain": [
       "array([ 1.        ,  0.99999947,  0.99999947])"
      ]
     },
     "execution_count": 45,
     "metadata": {},
     "output_type": "execute_result"
    }
   ],
   "source": [
    "spacing / actual_resize_factor"
   ]
  },
  {
   "cell_type": "code",
   "execution_count": 47,
   "metadata": {
    "collapsed": false
   },
   "outputs": [
    {
     "data": {
      "text/plain": [
       "array([ 1.        ,  0.99999947,  0.99999947])"
      ]
     },
     "execution_count": 47,
     "metadata": {},
     "output_type": "execute_result"
    }
   ],
   "source": [
    "spacing / actual_resize_factor"
   ]
  },
  {
   "cell_type": "code",
   "execution_count": 48,
   "metadata": {
    "collapsed": true
   },
   "outputs": [],
   "source": [
    "actual_new_spacing = spacing / actual_resize_factor"
   ]
  },
  {
   "cell_type": "code",
   "execution_count": 49,
   "metadata": {
    "collapsed": false
   },
   "outputs": [
    {
     "data": {
      "text/plain": [
       "array([[[-1024, -1024, -1024, ..., -1024, -1024, -1024],\n",
       "        [-1024, -1024, -1024, ..., -1024, -1024, -1024],\n",
       "        [-1024, -1024, -1024, ..., -1024, -1024, -1024],\n",
       "        ..., \n",
       "        [-1024, -1024, -1024, ..., -1024, -1024, -1024],\n",
       "        [-1024, -1024, -1024, ..., -1024, -1024, -1024],\n",
       "        [-1024, -1024, -1024, ..., -1024, -1024, -1024]],\n",
       "\n",
       "       [[-1024, -1024, -1024, ..., -1024, -1024, -1024],\n",
       "        [-1024, -1024, -1024, ..., -1024, -1024, -1024],\n",
       "        [-1024, -1024, -1024, ..., -1024, -1024, -1024],\n",
       "        ..., \n",
       "        [-1024, -1024, -1024, ..., -1024, -1024, -1024],\n",
       "        [-1024, -1024, -1024, ..., -1024, -1024, -1024],\n",
       "        [-1024, -1024, -1024, ..., -1024, -1024, -1024]],\n",
       "\n",
       "       [[-1024, -1024, -1024, ..., -1024, -1024, -1024],\n",
       "        [-1024, -1024, -1024, ..., -1024, -1024, -1024],\n",
       "        [-1024, -1024, -1024, ..., -1024, -1024, -1024],\n",
       "        ..., \n",
       "        [-1024, -1024, -1024, ..., -1024, -1024, -1024],\n",
       "        [-1024, -1024, -1024, ..., -1024, -1024, -1024],\n",
       "        [-1024, -1024, -1024, ..., -1024, -1024, -1024]],\n",
       "\n",
       "       ..., \n",
       "       [[-1024, -1024, -1024, ..., -1024, -1024, -1024],\n",
       "        [-1024, -1024, -1024, ..., -1024, -1024, -1024],\n",
       "        [-1024, -1024, -1024, ..., -1024, -1024, -1024],\n",
       "        ..., \n",
       "        [-1024, -1024, -1024, ..., -1024, -1024, -1024],\n",
       "        [-1024, -1024, -1024, ..., -1024, -1024, -1024],\n",
       "        [-1024, -1024, -1024, ..., -1024, -1024, -1024]],\n",
       "\n",
       "       [[-1024, -1024, -1024, ..., -1024, -1024, -1024],\n",
       "        [-1024, -1024, -1024, ..., -1024, -1024, -1024],\n",
       "        [-1024, -1024, -1024, ..., -1024, -1024, -1024],\n",
       "        ..., \n",
       "        [-1024, -1024, -1024, ..., -1024, -1024, -1024],\n",
       "        [-1024, -1024, -1024, ..., -1024, -1024, -1024],\n",
       "        [-1024, -1024, -1024, ..., -1024, -1024, -1024]],\n",
       "\n",
       "       [[-1024, -1024, -1024, ..., -1024, -1024, -1024],\n",
       "        [-1024, -1024, -1024, ..., -1024, -1024, -1024],\n",
       "        [-1024, -1024, -1024, ..., -1024, -1024, -1024],\n",
       "        ..., \n",
       "        [-1024, -1024, -1024, ..., -1024, -1024, -1024],\n",
       "        [-1024, -1024, -1024, ..., -1024, -1024, -1024],\n",
       "        [-1024, -1024, -1024, ..., -1024, -1024, -1024]]], dtype=int16)"
      ]
     },
     "execution_count": 49,
     "metadata": {},
     "output_type": "execute_result"
    }
   ],
   "source": [
    "scipy.ndimage.interpolation.zoom(image, actual_resize_factor, mode='nearest')"
   ]
  },
  {
   "cell_type": "code",
   "execution_count": null,
   "metadata": {
    "collapsed": true
   },
   "outputs": [],
   "source": []
  }
 ],
 "metadata": {
  "anaconda-cloud": {},
  "kernelspec": {
   "display_name": "Python 2",
   "language": "python",
   "name": "python2"
  },
  "language_info": {
   "codemirror_mode": {
    "name": "ipython",
    "version": 2
   },
   "file_extension": ".py",
   "mimetype": "text/x-python",
   "name": "python",
   "nbconvert_exporter": "python",
   "pygments_lexer": "ipython2",
   "version": "2.7.13"
  }
 },
 "nbformat": 4,
 "nbformat_minor": 0
}
