{
 "cells": [
  {
   "cell_type": "code",
   "execution_count": 1,
   "metadata": {
    "collapsed": false
   },
   "outputs": [
    {
     "name": "stderr",
     "output_type": "stream",
     "text": [
      "/Users/MichaelMa/anaconda/envs/py27/lib/python2.7/site-packages/matplotlib/font_manager.py:273: UserWarning: Matplotlib is building the font cache using fc-list. This may take a moment.\n",
      "  warnings.warn('Matplotlib is building the font cache using fc-list. This may take a moment.')\n"
     ]
    }
   ],
   "source": [
    "%matplotlib inline"
   ]
  },
  {
   "cell_type": "code",
   "execution_count": 2,
   "metadata": {
    "collapsed": false
   },
   "outputs": [],
   "source": [
    "import numpy as np # linear algebra\n",
    "import pandas as pd # data processing, CSV file I/O (e.g. pd.read_csv)\n",
    "import dicom\n",
    "import os\n",
    "import scipy.ndimage\n",
    "import matplotlib.pyplot as plt"
   ]
  },
  {
   "cell_type": "code",
   "execution_count": 3,
   "metadata": {
    "collapsed": true
   },
   "outputs": [],
   "source": [
    "from skimage import measure, morphology\n",
    "from mpl_toolkits.mplot3d.art3d import Poly3DCollection"
   ]
  },
  {
   "cell_type": "code",
   "execution_count": 4,
   "metadata": {
    "collapsed": false
   },
   "outputs": [],
   "source": [
    "# Some constants \n",
    "INPUT_FOLDER = './Data/sample_images/'\n",
    "patients = os.listdir(INPUT_FOLDER)\n",
    "patients.sort()"
   ]
  },
  {
   "cell_type": "code",
   "execution_count": 5,
   "metadata": {
    "collapsed": false
   },
   "outputs": [
    {
     "data": {
      "text/plain": [
       "['.DS_Store',\n",
       " '0a099f2549429d29b32f349e95fb2244',\n",
       " '0a0c32c9e08cc2ea76a71649de56be6d',\n",
       " '0a38e7597ca26f9374f8ea2770ba870d']"
      ]
     },
     "execution_count": 5,
     "metadata": {},
     "output_type": "execute_result"
    }
   ],
   "source": [
    "patients"
   ]
  },
  {
   "cell_type": "code",
   "execution_count": 6,
   "metadata": {
    "collapsed": true
   },
   "outputs": [],
   "source": [
    "# Load the scans in given folder path\n",
    "def load_scan(path):\n",
    "    slices = [dicom.read_file(path + '/' + s) for s in os.listdir(path)]\n",
    "    slices.sort(key = lambda x: int(x.ImagePositionPatient[2]))\n",
    "    \n",
    "    # This works because of DICOM definiion\n",
    "    try:\n",
    "        slice_thickness = np.abs(slices[0].ImagePositionPatient[2] - slices[1].ImagePositionPatient[2])\n",
    "    except:\n",
    "        slice_thickness = np.abs(slices[0].SliceLocation - slices[1].SliceLocation)\n",
    "    \n",
    "    # Slick thickness is important in later resampling\n",
    "    for s in slices:\n",
    "        s.SliceThickness = slice_thickness\n",
    "    \n",
    "    return slices"
   ]
  },
  {
   "cell_type": "code",
   "execution_count": 7,
   "metadata": {
    "collapsed": false,
    "scrolled": false
   },
   "outputs": [],
   "source": [
    "slices = load_scan('./Data/sample_images/' + patients[1])"
   ]
  },
  {
   "cell_type": "code",
   "execution_count": 8,
   "metadata": {
    "collapsed": false,
    "scrolled": true
   },
   "outputs": [
    {
     "name": "stdout",
     "output_type": "stream",
     "text": [
      "['-191.300003', '-179.199997', '-337.880005']\n",
      "['-191.300003', '-179.199997', '-335.380005']\n",
      "['-191.300003', '-179.199997', '-332.880005']\n",
      "['-191.300003', '-179.199997', '-330.380005']\n",
      "['-191.300003', '-179.199997', '-327.880005']\n",
      "['-191.300003', '-179.199997', '-325.380005']\n",
      "['-191.300003', '-179.199997', '-322.880005']\n",
      "['-191.300003', '-179.199997', '-320.380005']\n",
      "['-191.300003', '-179.199997', '-317.880005']\n",
      "['-191.300003', '-179.199997', '-312.880005']\n",
      "['-191.300003', '-179.199997', '-310.380005']\n",
      "['-191.300003', '-179.199997', '-307.880005']\n",
      "['-191.300003', '-179.199997', '-305.380005']\n",
      "['-191.300003', '-179.199997', '-302.880005']\n",
      "['-191.300003', '-179.199997', '-300.380005']\n",
      "['-191.300003', '-179.199997', '-297.880005']\n",
      "['-191.300003', '-179.199997', '-295.380005']\n",
      "['-191.300003', '-179.199997', '-292.880005']\n",
      "['-191.300003', '-179.199997', '-290.380005']\n",
      "['-191.300003', '-179.199997', '-287.880005']\n",
      "['-191.300003', '-179.199997', '-285.380005']\n",
      "['-191.300003', '-179.199997', '-282.880005']\n",
      "['-191.300003', '-179.199997', '-280.380005']\n",
      "['-191.300003', '-179.199997', '-277.880005']\n",
      "['-191.300003', '-179.199997', '-275.380005']\n",
      "['-191.300003', '-179.199997', '-272.880005']\n",
      "['-191.300003', '-179.199997', '-270.380005']\n",
      "['-191.300003', '-179.199997', '-267.880005']\n",
      "['-191.300003', '-179.199997', '-265.380005']\n",
      "['-191.300003', '-179.199997', '-262.880005']\n",
      "['-191.300003', '-179.199997', '-257.880005']\n",
      "['-191.300003', '-179.199997', '-255.380005']\n",
      "['-191.300003', '-179.199997', '-252.880005']\n",
      "['-191.300003', '-179.199997', '-250.380005']\n",
      "['-191.300003', '-179.199997', '-247.880005']\n",
      "['-191.300003', '-179.199997', '-245.380005']\n",
      "['-191.300003', '-179.199997', '-242.880005']\n",
      "['-191.300003', '-179.199997', '-240.380005']\n",
      "['-191.300003', '-179.199997', '-237.880005']\n",
      "['-191.300003', '-179.199997', '-235.380005']\n",
      "['-191.300003', '-179.199997', '-232.880005']\n",
      "['-191.300003', '-179.199997', '-230.380005']\n",
      "['-191.300003', '-179.199997', '-227.880005']\n",
      "['-191.300003', '-179.199997', '-225.380005']\n",
      "['-191.300003', '-179.199997', '-222.880005']\n",
      "['-191.300003', '-179.199997', '-220.380005']\n",
      "['-191.300003', '-179.199997', '-217.880005']\n",
      "['-191.300003', '-179.199997', '-215.380005']\n",
      "['-191.300003', '-179.199997', '-212.880005']\n",
      "['-191.300003', '-179.199997', '-210.380005']\n",
      "['-191.300003', '-179.199997', '-207.880005']\n",
      "['-191.300003', '-179.199997', '-205.380005']\n",
      "['-191.300003', '-179.199997', '-202.880005']\n",
      "['-191.300003', '-179.199997', '-200.380005']\n",
      "['-191.300003', '-179.199997', '-197.880005']\n",
      "['-191.300003', '-179.199997', '-195.380005']\n",
      "['-191.300003', '-179.199997', '-192.880005']\n",
      "['-191.300003', '-179.199997', '-190.380005']\n",
      "['-191.300003', '-179.199997', '-187.880005']\n",
      "['-191.300003', '-179.199997', '-185.380005']\n",
      "['-191.300003', '-179.199997', '-182.880005']\n",
      "['-191.300003', '-179.199997', '-180.380005']\n",
      "['-191.300003', '-179.199997', '-177.880005']\n",
      "['-191.300003', '-179.199997', '-175.380005']\n",
      "['-191.300003', '-179.199997', '-172.880005']\n",
      "['-191.300003', '-179.199997', '-170.380005']\n",
      "['-191.300003', '-179.199997', '-167.880005']\n",
      "['-191.300003', '-179.199997', '-165.380005']\n",
      "['-191.300003', '-179.199997', '-162.880005']\n",
      "['-191.300003', '-179.199997', '-160.380005']\n",
      "['-191.300003', '-179.199997', '-157.880005']\n",
      "['-191.300003', '-179.199997', '-155.380005']\n",
      "['-191.300003', '-179.199997', '-152.880005']\n",
      "['-191.300003', '-179.199997', '-150.380005']\n",
      "['-191.300003', '-179.199997', '-147.880005']\n",
      "['-191.300003', '-179.199997', '-145.380005']\n",
      "['-191.300003', '-179.199997', '-142.880005']\n",
      "['-191.300003', '-179.199997', '-140.380005']\n",
      "['-191.300003', '-179.199997', '-137.880005']\n",
      "['-191.300003', '-179.199997', '-135.380005']\n",
      "['-191.300003', '-179.199997', '-132.880005']\n",
      "['-191.300003', '-179.199997', '-130.380005']\n",
      "['-191.300003', '-179.199997', '-127.879997']\n",
      "['-191.300003', '-179.199997', '-125.379997']\n",
      "['-191.300003', '-179.199997', '-122.879997']\n",
      "['-191.300003', '-179.199997', '-120.379997']\n",
      "['-191.300003', '-179.199997', '-117.879997']\n",
      "['-191.300003', '-179.199997', '-115.379997']\n",
      "['-191.300003', '-179.199997', '-112.879997']\n",
      "['-191.300003', '-179.199997', '-110.379997']\n",
      "['-191.300003', '-179.199997', '-107.879997']\n",
      "['-191.300003', '-179.199997', '-105.379997']\n",
      "['-191.300003', '-179.199997', '-102.879997']\n",
      "['-191.300003', '-179.199997', '-100.379997']\n",
      "['-191.300003', '-179.199997', '-97.879997']\n",
      "['-191.300003', '-179.199997', '-95.379997']\n",
      "['-191.300003', '-179.199997', '-92.879997']\n",
      "['-191.300003', '-179.199997', '-90.379997']\n",
      "['-191.300003', '-179.199997', '-85.379997']\n",
      "['-191.300003', '-179.199997', '-82.879997']\n",
      "['-191.300003', '-179.199997', '-80.379997']\n",
      "['-191.300003', '-179.199997', '-77.879997']\n",
      "['-191.300003', '-179.199997', '-72.879997']\n",
      "['-191.300003', '-179.199997', '-70.379997']\n",
      "['-191.300003', '-179.199997', '-67.879997']\n",
      "['-191.300003', '-179.199997', '-62.879997']\n",
      "['-191.300003', '-179.199997', '-60.379997']\n",
      "['-191.300003', '-179.199997', '-57.879997']\n",
      "['-191.300003', '-179.199997', '-55.379997']\n",
      "['-191.300003', '-179.199997', '-52.879997']\n",
      "['-191.300003', '-179.199997', '-45.379997']\n",
      "['-191.300003', '-179.199997', '-42.879997']\n",
      "['-191.300003', '-179.199997', '-40.379997']\n",
      "['-191.300003', '-179.199997', '-37.879997']\n",
      "['-191.300003', '-179.199997', '-35.379997']\n",
      "['-191.300003', '-179.199997', '-30.379999']\n",
      "['-191.300003', '-179.199997', '-25.379999']\n",
      "['-191.300003', '-179.199997', '-20.379999']\n"
     ]
    }
   ],
   "source": [
    "for s in slices:\n",
    "    print(s.ImagePositionPatient)"
   ]
  },
  {
   "cell_type": "code",
   "execution_count": 9,
   "metadata": {
    "collapsed": false,
    "scrolled": true
   },
   "outputs": [
    {
     "data": {
      "text/plain": [
       "['AcquisitionNumber',\n",
       " 'BitsAllocated',\n",
       " 'BitsStored',\n",
       " 'Columns',\n",
       " 'FrameOfReferenceUID',\n",
       " 'HighBit',\n",
       " 'ImageOrientationPatient',\n",
       " 'ImagePositionPatient',\n",
       " 'InstanceNumber',\n",
       " 'KVP',\n",
       " 'Modality',\n",
       " 'PatientBirthDate',\n",
       " 'PatientID',\n",
       " 'PatientName',\n",
       " 'PatientOrientation',\n",
       " 'PhotometricInterpretation',\n",
       " 'PixelData',\n",
       " 'PixelPaddingValue',\n",
       " 'PixelRepresentation',\n",
       " 'PixelSpacing',\n",
       " 'PositionReferenceIndicator',\n",
       " 'RescaleIntercept',\n",
       " 'RescaleSlope',\n",
       " 'Rows',\n",
       " 'SOPClassUID',\n",
       " 'SOPInstanceUID',\n",
       " 'SamplesPerPixel',\n",
       " 'SeriesDescription',\n",
       " 'SeriesInstanceUID',\n",
       " 'SeriesNumber',\n",
       " 'SliceLocation',\n",
       " 'SliceThickness',\n",
       " 'SpecificCharacterSet',\n",
       " 'StudyInstanceUID',\n",
       " 'WindowCenter',\n",
       " 'WindowWidth',\n",
       " '__cmp__',\n",
       " '__contains__',\n",
       " '__delattr__',\n",
       " '__delitem__',\n",
       " '__dir__',\n",
       " '__eq__',\n",
       " '__format__',\n",
       " '__ge__',\n",
       " '__getattr__',\n",
       " '__getattribute__',\n",
       " '__getitem__',\n",
       " '__gt__',\n",
       " '__init__',\n",
       " '__iter__',\n",
       " '__le__',\n",
       " '__len__',\n",
       " '__lt__',\n",
       " '__ne__',\n",
       " '__new__',\n",
       " '__reduce__',\n",
       " '__reduce_ex__',\n",
       " '__repr__',\n",
       " '__setattr__',\n",
       " '__setitem__',\n",
       " '__sizeof__',\n",
       " '__str__',\n",
       " '__subclasshook__',\n",
       " '__weakref__',\n",
       " '_character_set',\n",
       " '_get_pixel_array',\n",
       " '_pixel_data_numpy',\n",
       " '_pretty_str',\n",
       " 'add',\n",
       " 'add_new',\n",
       " 'clear',\n",
       " 'copy',\n",
       " 'data_element',\n",
       " 'decode',\n",
       " 'dir',\n",
       " 'formatted_lines',\n",
       " 'fromkeys',\n",
       " 'get',\n",
       " 'get_item',\n",
       " 'group_dataset',\n",
       " 'has_key',\n",
       " 'items',\n",
       " 'iterall',\n",
       " 'iteritems',\n",
       " 'iterkeys',\n",
       " 'itervalues',\n",
       " 'keys',\n",
       " 'pixel_array',\n",
       " 'pop',\n",
       " 'popitem',\n",
       " 'remove_private_tags',\n",
       " 'save_as',\n",
       " 'setdefault',\n",
       " 'top',\n",
       " 'trait_names',\n",
       " 'update',\n",
       " 'values',\n",
       " 'viewitems',\n",
       " 'viewkeys',\n",
       " 'viewvalues',\n",
       " 'walk']"
      ]
     },
     "execution_count": 9,
     "metadata": {},
     "output_type": "execute_result"
    }
   ],
   "source": [
    "dir(slices[0])"
   ]
  },
  {
   "cell_type": "code",
   "execution_count": 10,
   "metadata": {
    "collapsed": false
   },
   "outputs": [
    {
     "data": {
      "text/plain": [
       "(118, 512, 512)"
      ]
     },
     "execution_count": 10,
     "metadata": {},
     "output_type": "execute_result"
    }
   ],
   "source": [
    "np.array([s.pixel_array for s in slices]).shape"
   ]
  },
  {
   "cell_type": "code",
   "execution_count": 11,
   "metadata": {
    "collapsed": false
   },
   "outputs": [
    {
     "data": {
      "text/plain": [
       "(118, 512, 512)"
      ]
     },
     "execution_count": 11,
     "metadata": {},
     "output_type": "execute_result"
    }
   ],
   "source": [
    "np.stack([s.pixel_array for s in slices]).shape"
   ]
  },
  {
   "cell_type": "code",
   "execution_count": 12,
   "metadata": {
    "collapsed": false
   },
   "outputs": [
    {
     "data": {
      "text/plain": [
       "118"
      ]
     },
     "execution_count": 12,
     "metadata": {},
     "output_type": "execute_result"
    }
   ],
   "source": [
    "len(slices)"
   ]
  },
  {
   "cell_type": "code",
   "execution_count": 13,
   "metadata": {
    "collapsed": true
   },
   "outputs": [],
   "source": [
    "def get_pixels_hu(slices):\n",
    "    #np.array() should also work according to the preceding cells\n",
    "    image = np.stack([s.pixel_array for s in slices])\n",
    "    # Convert to int16 (from sometimes int16), \n",
    "    # should be possible as values should always be low enough (<32k)\n",
    "    image = image.astype(np.int16)\n",
    "\n",
    "    # Set outside-of-scan pixels to 0\n",
    "    # The intercept is usually -1024, so air is approximately 0\n",
    "    image[image == -2000] = 0\n",
    "    \n",
    "    # Convert to Hounsfield units (HU)\n",
    "    # TODO: Understand what `intercept` and `slope` is\n",
    "    for slice_number in range(len(slices)):\n",
    "        \n",
    "        intercept = slices[slice_number].RescaleIntercept\n",
    "        slope = slices[slice_number].RescaleSlope\n",
    "        \n",
    "        if slope != 1:\n",
    "            image[slice_number] = slope * image[slice_number].astype(np.float64)\n",
    "            image[slice_number] = image[slice_number].astype(np.int16)\n",
    "            \n",
    "        image[slice_number] += np.int16(intercept)\n",
    "    \n",
    "    return np.array(image, dtype=np.int16)"
   ]
  },
  {
   "cell_type": "code",
   "execution_count": 16,
   "metadata": {
    "collapsed": false
   },
   "outputs": [
    {
     "data": {
      "image/png": "[encoded data removed]",
      "text/plain": [
       "<matplotlib.figure.Figure at 0x126f00c90>"
      ]
     },
     "metadata": {},
     "output_type": "display_data"
    },
    {
     "data": {
      "image/png": "[encoded data removed]",
      "text/plain": [
       "<matplotlib.figure.Figure at 0x1302fca90>"
      ]
     },
     "metadata": {},
     "output_type": "display_data"
    }
   ],
   "source": [
    "# patients[0] is .DS_Store on a Mac\n",
    "first_patient = load_scan(INPUT_FOLDER + patients[1])\n",
    "first_patient_pixels = get_pixels_hu(first_patient)\n",
    "plt.hist(first_patient_pixels.flatten(), bins=80, color='c')\n",
    "plt.xlabel(\"Hounsfield Units (HU)\")\n",
    "plt.ylabel(\"Frequency\")\n",
    "plt.show()\n",
    "\n",
    "# Show some slice in the middle\n",
    "plt.imshow(first_patient_pixels[80], cmap=plt.cm.gray)\n",
    "plt.show()"
   ]
  },
  {
   "cell_type": "code",
   "execution_count": null,
   "metadata": {
    "collapsed": false
   },
   "outputs": [],
   "source": [
    "verts, faces = measure.marching_cubes(first_patient_pixels, 400)"
   ]
  },
  {
   "cell_type": "code",
   "execution_count": null,
   "metadata": {
    "collapsed": false
   },
   "outputs": [],
   "source": [
    "verts.shape"
   ]
  },
  {
   "cell_type": "code",
   "execution_count": null,
   "metadata": {
    "collapsed": false
   },
   "outputs": [],
   "source": [
    "verts[faces].shape"
   ]
  },
  {
   "cell_type": "code",
   "execution_count": null,
   "metadata": {
    "collapsed": false
   },
   "outputs": [],
   "source": [
    "verts[faces[0]]"
   ]
  },
  {
   "cell_type": "code",
   "execution_count": null,
   "metadata": {
    "collapsed": false
   },
   "outputs": [],
   "source": [
    "mesh = Poly3DCollection(verts[faces], alpha=0.1)"
   ]
  },
  {
   "cell_type": "code",
   "execution_count": null,
   "metadata": {
    "collapsed": true
   },
   "outputs": [],
   "source": [
    "mesh.set_facecolor([0.5, 0.5, 1])"
   ]
  },
  {
   "cell_type": "code",
   "execution_count": null,
   "metadata": {
    "collapsed": false
   },
   "outputs": [],
   "source": [
    "# fig = plt.figure()\n",
    "# ax = fig.add_subplot(212, projection='3d')\n",
    "# ax.add_collection3d(mesh)\n",
    "# ax.set_xlim(0, first_patient_pixels.shape[0])\n",
    "# ax.set_ylim(0, first_patient_pixels.shape[1])\n",
    "# ax.set_zlim(0, first_patient_pixels.shape[2])\n",
    "# plt.show()"
   ]
  },
  {
   "cell_type": "code",
   "execution_count": 17,
   "metadata": {
    "collapsed": true
   },
   "outputs": [],
   "source": [
    "def plot_3d(image, threshold=-300):\n",
    "    \n",
    "    # Position the scan upright, \n",
    "    # so the head of the patient would be at the top facing the camera\n",
    "    # p = image.transpose(2,1,0)\n",
    "    p = image\n",
    "    \n",
    "    verts, faces = measure.marching_cubes(p, threshold)\n",
    "    print(verts[faces].shape)\n",
    "\n",
    "    fig = plt.figure(figsize=(10, 10))\n",
    "    ax = fig.add_subplot(111, projection='3d')\n",
    "    print(fig)\n",
    "\n",
    "    # Fancy indexing: `verts[faces]` to generate a collection of triangles\n",
    "    mesh = Poly3DCollection(verts[faces], alpha=0.1)\n",
    "    face_color = [0.5, 0.5, 1]\n",
    "    mesh.set_facecolor(face_color)\n",
    "    ax.add_collection3d(mesh)\n",
    "\n",
    "    ax.set_xlim(0, p.shape[0])\n",
    "    ax.set_ylim(0, p.shape[1])\n",
    "    ax.set_zlim(0, p.shape[2])\n",
    "\n",
    "    plt.show()"
   ]
  },
  {
   "cell_type": "code",
   "execution_count": null,
   "metadata": {
    "collapsed": false
   },
   "outputs": [],
   "source": [
    "plot_3d(first_patient_pixels, 400)"
   ]
  },
  {
   "cell_type": "code",
   "execution_count": 20,
   "metadata": {
    "collapsed": false
   },
   "outputs": [],
   "source": [
    "scan = first_patient"
   ]
  },
  {
   "cell_type": "code",
   "execution_count": 21,
   "metadata": {
    "collapsed": false
   },
   "outputs": [],
   "source": [
    "image = first_patient_pixels"
   ]
  },
  {
   "cell_type": "code",
   "execution_count": 22,
   "metadata": {
    "collapsed": false
   },
   "outputs": [
    {
     "data": {
      "text/plain": [
       "'2.5'"
      ]
     },
     "execution_count": 22,
     "metadata": {},
     "output_type": "execute_result"
    }
   ],
   "source": [
    "scan[0].SliceThickness"
   ]
  },
  {
   "cell_type": "code",
   "execution_count": 23,
   "metadata": {
    "collapsed": false
   },
   "outputs": [
    {
     "data": {
      "text/plain": [
       "['2.5']"
      ]
     },
     "execution_count": 23,
     "metadata": {},
     "output_type": "execute_result"
    }
   ],
   "source": [
    "[scan[0].SliceThickness]"
   ]
  },
  {
   "cell_type": "code",
   "execution_count": 24,
   "metadata": {
    "collapsed": false
   },
   "outputs": [
    {
     "data": {
      "text/plain": [
       "['0.677734', '0.677734']"
      ]
     },
     "execution_count": 24,
     "metadata": {},
     "output_type": "execute_result"
    }
   ],
   "source": [
    "scan[0].PixelSpacing"
   ]
  },
  {
   "cell_type": "code",
   "execution_count": 25,
   "metadata": {
    "collapsed": false
   },
   "outputs": [
    {
     "data": {
      "text/plain": [
       "['2.5', '0.677734', '0.677734']"
      ]
     },
     "execution_count": 25,
     "metadata": {},
     "output_type": "execute_result"
    }
   ],
   "source": [
    "[scan[0].SliceThickness] + scan[0].PixelSpacing"
   ]
  },
  {
   "cell_type": "code",
   "execution_count": 29,
   "metadata": {
    "collapsed": false
   },
   "outputs": [
    {
     "data": {
      "text/plain": [
       "array([ 2.5       ,  0.67773402,  0.67773402], dtype=float32)"
      ]
     },
     "execution_count": 29,
     "metadata": {},
     "output_type": "execute_result"
    }
   ],
   "source": [
    "np.array([scan[0].SliceThickness] + scan[0].PixelSpacing, dtype=np.float32)"
   ]
  },
  {
   "cell_type": "code",
   "execution_count": 30,
   "metadata": {
    "collapsed": true
   },
   "outputs": [],
   "source": [
    "spacing = np.array([scan[0].SliceThickness] + scan[0].PixelSpacing, dtype=np.float32)"
   ]
  },
  {
   "cell_type": "code",
   "execution_count": 32,
   "metadata": {
    "collapsed": true
   },
   "outputs": [],
   "source": [
    "new_spacing = [1, 1, 1]"
   ]
  },
  {
   "cell_type": "code",
   "execution_count": 33,
   "metadata": {
    "collapsed": false
   },
   "outputs": [
    {
     "data": {
      "text/plain": [
       "array([ 2.5       ,  0.67773402,  0.67773402])"
      ]
     },
     "execution_count": 33,
     "metadata": {},
     "output_type": "execute_result"
    }
   ],
   "source": [
    "spacing / new_spacing"
   ]
  },
  {
   "cell_type": "code",
   "execution_count": 31,
   "metadata": {
    "collapsed": false
   },
   "outputs": [],
   "source": [
    "resize_factor = spacing / new_spacing"
   ]
  },
  {
   "cell_type": "code",
   "execution_count": 34,
   "metadata": {
    "collapsed": false
   },
   "outputs": [
    {
     "data": {
      "text/plain": [
       "(118, 512, 512)"
      ]
     },
     "execution_count": 34,
     "metadata": {},
     "output_type": "execute_result"
    }
   ],
   "source": [
    "image.shape"
   ]
  },
  {
   "cell_type": "code",
   "execution_count": 36,
   "metadata": {
    "collapsed": false
   },
   "outputs": [
    {
     "data": {
      "text/plain": [
       "array([ 295.        ,  346.99981689,  346.99981689])"
      ]
     },
     "execution_count": 36,
     "metadata": {},
     "output_type": "execute_result"
    }
   ],
   "source": [
    "image.shape * resize_factor"
   ]
  },
  {
   "cell_type": "code",
   "execution_count": 43,
   "metadata": {
    "collapsed": false
   },
   "outputs": [
    {
     "data": {
      "text/plain": [
       "array([ 295.,  347.,  347.])"
      ]
     },
     "execution_count": 43,
     "metadata": {},
     "output_type": "execute_result"
    }
   ],
   "source": [
    "np.round(image.shape * resize_factor)"
   ]
  },
  {
   "cell_type": "code",
   "execution_count": 39,
   "metadata": {
    "collapsed": true
   },
   "outputs": [],
   "source": [
    "new_shape = np.round(new_real_shape)"
   ]
  },
  {
   "cell_type": "code",
   "execution_count": 40,
   "metadata": {
    "collapsed": false
   },
   "outputs": [
    {
     "data": {
      "text/plain": [
       "array([ 2.5       ,  0.67773438,  0.67773438])"
      ]
     },
     "execution_count": 40,
     "metadata": {},
     "output_type": "execute_result"
    }
   ],
   "source": [
    "new_shape / image.shape"
   ]
  },
  {
   "cell_type": "code",
   "execution_count": 44,
   "metadata": {
    "collapsed": true
   },
   "outputs": [],
   "source": [
    "actual_resize_factor = np.round(image.shape * resize_factor) / image.shape"
   ]
  },
  {
   "cell_type": "code",
   "execution_count": 45,
   "metadata": {
    "collapsed": false
   },
   "outputs": [
    {
     "data": {
      "text/plain": [
       "array([ 1.        ,  0.99999947,  0.99999947])"
      ]
     },
     "execution_count": 45,
     "metadata": {},
     "output_type": "execute_result"
    }
   ],
   "source": [
    "spacing / actual_resize_factor"
   ]
  },
  {
   "cell_type": "code",
   "execution_count": 47,
   "metadata": {
    "collapsed": false
   },
   "outputs": [
    {
     "data": {
      "text/plain": [
       "array([ 1.        ,  0.99999947,  0.99999947])"
      ]
     },
     "execution_count": 47,
     "metadata": {},
     "output_type": "execute_result"
    }
   ],
   "source": [
    "spacing / actual_resize_factor"
   ]
  },
  {
   "cell_type": "code",
   "execution_count": 48,
   "metadata": {
    "collapsed": true
   },
   "outputs": [],
   "source": [
    "actual_new_spacing = spacing / actual_resize_factor"
   ]
  },
  {
   "cell_type": "code",
   "execution_count": 49,
   "metadata": {
    "collapsed": false
   },
   "outputs": [
    {
     "data": {
      "text/plain": [
       "array([[[-1024, -1024, -1024, ..., -1024, -1024, -1024],\n",
       "        [-1024, -1024, -1024, ..., -1024, -1024, -1024],\n",
       "        [-1024, -1024, -1024, ..., -1024, -1024, -1024],\n",
       "        ..., \n",
       "        [-1024, -1024, -1024, ..., -1024, -1024, -1024],\n",
       "        [-1024, -1024, -1024, ..., -1024, -1024, -1024],\n",
       "        [-1024, -1024, -1024, ..., -1024, -1024, -1024]],\n",
       "\n",
       "       [[-1024, -1024, -1024, ..., -1024, -1024, -1024],\n",
       "        [-1024, -1024, -1024, ..., -1024, -1024, -1024],\n",
       "        [-1024, -1024, -1024, ..., -1024, -1024, -1024],\n",
       "        ..., \n",
       "        [-1024, -1024, -1024, ..., -1024, -1024, -1024],\n",
       "        [-1024, -1024, -1024, ..., -1024, -1024, -1024],\n",
       "        [-1024, -1024, -1024, ..., -1024, -1024, -1024]],\n",
       "\n",
       "       [[-1024, -1024, -1024, ..., -1024, -1024, -1024],\n",
       "        [-1024, -1024, -1024, ..., -1024, -1024, -1024],\n",
       "        [-1024, -1024, -1024, ..., -1024, -1024, -1024],\n",
       "        ..., \n",
       "        [-1024, -1024, -1024, ..., -1024, -1024, -1024],\n",
       "        [-1024, -1024, -1024, ..., -1024, -1024, -1024],\n",
       "        [-1024, -1024, -1024, ..., -1024, -1024, -1024]],\n",
       "\n",
       "       ..., \n",
       "       [[-1024, -1024, -1024, ..., -1024, -1024, -1024],\n",
       "        [-1024, -1024, -1024, ..., -1024, -1024, -1024],\n",
       "        [-1024, -1024, -1024, ..., -1024, -1024, -1024],\n",
       "        ..., \n",
       "        [-1024, -1024, -1024, ..., -1024, -1024, -1024],\n",
       "        [-1024, -1024, -1024, ..., -1024, -1024, -1024],\n",
       "        [-1024, -1024, -1024, ..., -1024, -1024, -1024]],\n",
       "\n",
       "       [[-1024, -1024, -1024, ..., -1024, -1024, -1024],\n",
       "        [-1024, -1024, -1024, ..., -1024, -1024, -1024],\n",
       "        [-1024, -1024, -1024, ..., -1024, -1024, -1024],\n",
       "        ..., \n",
       "        [-1024, -1024, -1024, ..., -1024, -1024, -1024],\n",
       "        [-1024, -1024, -1024, ..., -1024, -1024, -1024],\n",
       "        [-1024, -1024, -1024, ..., -1024, -1024, -1024]],\n",
       "\n",
       "       [[-1024, -1024, -1024, ..., -1024, -1024, -1024],\n",
       "        [-1024, -1024, -1024, ..., -1024, -1024, -1024],\n",
       "        [-1024, -1024, -1024, ..., -1024, -1024, -1024],\n",
       "        ..., \n",
       "        [-1024, -1024, -1024, ..., -1024, -1024, -1024],\n",
       "        [-1024, -1024, -1024, ..., -1024, -1024, -1024],\n",
       "        [-1024, -1024, -1024, ..., -1024, -1024, -1024]]], dtype=int16)"
      ]
     },
     "execution_count": 49,
     "metadata": {},
     "output_type": "execute_result"
    }
   ],
   "source": [
    "scipy.ndimage.interpolation.zoom(image, actual_resize_factor, mode='nearest')"
   ]
  },
  {
   "cell_type": "code",
   "execution_count": null,
   "metadata": {
    "collapsed": true
   },
   "outputs": [],
   "source": [
    ""
   ]
  }
 ],
 "metadata": {
  "anaconda-cloud": {},
  "kernelspec": {
   "display_name": "Python [default]",
   "language": "python",
   "name": "python2"
  },
  "language_info": {
   "codemirror_mode": {
    "name": "ipython",
    "version": 2.0
   },
   "file_extension": ".py",
   "mimetype": "text/x-python",
   "name": "python",
   "nbconvert_exporter": "python",
   "pygments_lexer": "ipython2",
   "version": "2.7.12"
  }
 },
 "nbformat": 4,
 "nbformat_minor": 0
}