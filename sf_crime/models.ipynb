{
 "cells": [
  {
   "cell_type": "code",
   "execution_count": 1,
   "metadata": {
    "collapsed": false
   },
   "outputs": [
    {
     "name": "stdout",
     "output_type": "stream",
     "text": [
      "[[  0.00000000e+00   0.00000000e+00  -1.22425892e+02 ...,   1.30000000e+01\n",
      "    5.00000000e+00   2.01500000e+03]\n",
      " [  0.00000000e+00   0.00000000e+00  -1.22425892e+02 ...,   1.30000000e+01\n",
      "    5.00000000e+00   2.01500000e+03]\n",
      " [  0.00000000e+00   0.00000000e+00  -1.22424363e+02 ...,   1.30000000e+01\n",
      "    5.00000000e+00   2.01500000e+03]\n",
      " ..., \n",
      " [  2.00000000e+00   9.00000000e+00  -1.22403390e+02 ...,   6.00000000e+00\n",
      "    1.00000000e+00   2.00300000e+03]\n",
      " [  2.00000000e+00   9.00000000e+00  -1.22390531e+02 ...,   6.00000000e+00\n",
      "    1.00000000e+00   2.00300000e+03]\n",
      " [  2.00000000e+00   3.00000000e+00  -1.22394926e+02 ...,   6.00000000e+00\n",
      "    1.00000000e+00   2.00300000e+03]]\n",
      "[ 0  1  1 ...,  2  4 12]\n",
      "[[  3.00000000e+00   3.00000000e+00  -1.22399588e+02 ...,   1.00000000e+01\n",
      "    5.00000000e+00   2.01500000e+03]\n",
      " [  3.00000000e+00   3.00000000e+00  -1.22391523e+02 ...,   1.00000000e+01\n",
      "    5.00000000e+00   2.01500000e+03]\n",
      " [  3.00000000e+00   0.00000000e+00  -1.22426002e+02 ...,   1.00000000e+01\n",
      "    5.00000000e+00   2.01500000e+03]\n",
      " ..., \n",
      " [  0.00000000e+00   2.00000000e+00  -1.22445418e+02 ...,   1.00000000e+00\n",
      "    1.00000000e+00   2.00300000e+03]\n",
      " [  0.00000000e+00   3.00000000e+00  -1.22387394e+02 ...,   1.00000000e+00\n",
      "    1.00000000e+00   2.00300000e+03]\n",
      " [  0.00000000e+00   6.00000000e+00  -1.22489714e+02 ...,   1.00000000e+00\n",
      "    1.00000000e+00   2.00300000e+03]]\n",
      "Saved results\n"
     ]
    }
   ],
   "source": [
    "from decision_tree import *"
   ]
  },
  {
   "cell_type": "code",
   "execution_count": 2,
   "metadata": {
    "collapsed": false
   },
   "outputs": [],
   "source": [
    "import os\n",
    "from util import OUTPUT_PATH\n",
    "sklearn.tree.export_graphviz(\n",
    "        classifier,\n",
    "        out_file=os.path.join(OUTPUT_PATH, \"tree.dot\"),\n",
    "        label=\"none\",\n",
    "        impurity=False,\n",
    "        filled=True,\n",
    "        leaves_parallel=True,\n",
    "        node_ids=False)"
   ]
  },
  {
   "cell_type": "code",
   "execution_count": null,
   "metadata": {
    "collapsed": true
   },
   "outputs": [],
   "source": []
  }
 ],
 "metadata": {
  "kernelspec": {
   "display_name": "Python 3",
   "language": "python",
   "name": "python3"
  },
  "language_info": {
   "codemirror_mode": {
    "name": "ipython",
    "version": 3
   },
   "file_extension": ".py",
   "mimetype": "text/x-python",
   "name": "python",
   "nbconvert_exporter": "python",
   "pygments_lexer": "ipython3",
   "version": "3.5.1"
  }
 },
 "nbformat": 4,
 "nbformat_minor": 1
}
